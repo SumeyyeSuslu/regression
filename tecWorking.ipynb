{
  "nbformat": 4,
  "nbformat_minor": 0,
  "metadata": {
    "colab": {
      "provenance": [],
      "collapsed_sections": [],
      "authorship_tag": "ABX9TyO/GvgWvz2lf+HSQ33JA1Ub",
      "include_colab_link": true
    },
    "kernelspec": {
      "name": "python3",
      "display_name": "Python 3"
    },
    "language_info": {
      "name": "python"
    },
    "accelerator": "GPU"
  },
  "cells": [
    {
      "cell_type": "markdown",
      "metadata": {
        "id": "view-in-github",
        "colab_type": "text"
      },
      "source": [
        "<a href=\"https://colab.research.google.com/github/SumeyyeSuslu/regression/blob/main/tecWorking.ipynb\" target=\"_parent\"><img src=\"https://colab.research.google.com/assets/colab-badge.svg\" alt=\"Open In Colab\"/></a>"
      ]
    },
    {
      "cell_type": "code",
      "execution_count": null,
      "metadata": {
        "colab": {
          "base_uri": "https://localhost:8080/"
        },
        "id": "sQJmzzC3_PPv",
        "outputId": "75d9794b-88a8-4a4d-b2dd-0aeebfbb4d47"
      },
      "outputs": [
        {
          "output_type": "stream",
          "name": "stdout",
          "text": [
            "\r0% [Working]\r            \rGet:1 https://cloud.r-project.org/bin/linux/ubuntu bionic-cran40/ InRelease [3,626 B]\n",
            "\r0% [Connecting to archive.ubuntu.com (185.125.190.39)] [Connecting to security.\r0% [1 InRelease gpgv 3,626 B] [Connecting to archive.ubuntu.com (185.125.190.39\r                                                                               \rGet:2 http://security.ubuntu.com/ubuntu bionic-security InRelease [88.7 kB]\n",
            "\r                                                                               \rGet:3 http://ppa.launchpad.net/c2d4u.team/c2d4u4.0+/ubuntu bionic InRelease [15.9 kB]\n",
            "Hit:4 http://archive.ubuntu.com/ubuntu bionic InRelease\n",
            "Get:5 http://archive.ubuntu.com/ubuntu bionic-updates InRelease [88.7 kB]\n",
            "Hit:6 http://ppa.launchpad.net/cran/libgit2/ubuntu bionic InRelease\n",
            "Get:7 http://archive.ubuntu.com/ubuntu bionic-backports InRelease [83.3 kB]\n",
            "Hit:8 http://ppa.launchpad.net/deadsnakes/ppa/ubuntu bionic InRelease\n",
            "Ign:9 https://developer.download.nvidia.com/compute/machine-learning/repos/ubuntu1804/x86_64  InRelease\n",
            "Get:10 https://developer.download.nvidia.com/compute/cuda/repos/ubuntu1804/x86_64  InRelease [1,581 B]\n",
            "Get:11 http://ppa.launchpad.net/graphics-drivers/ppa/ubuntu bionic InRelease [21.3 kB]\n",
            "Hit:12 https://developer.download.nvidia.com/compute/machine-learning/repos/ubuntu1804/x86_64  Release\n",
            "Get:13 http://security.ubuntu.com/ubuntu bionic-security/main amd64 Packages [2,990 kB]\n",
            "Get:14 http://ppa.launchpad.net/c2d4u.team/c2d4u4.0+/ubuntu bionic/main Sources [2,161 kB]\n",
            "Get:15 http://archive.ubuntu.com/ubuntu bionic-updates/universe amd64 Packages [2,323 kB]\n",
            "Get:16 http://security.ubuntu.com/ubuntu bionic-security/universe amd64 Packages [1,546 kB]\n",
            "Get:17 http://archive.ubuntu.com/ubuntu bionic-updates/main amd64 Packages [3,422 kB]\n",
            "Get:18 http://ppa.launchpad.net/c2d4u.team/c2d4u4.0+/ubuntu bionic/main amd64 Packages [1,107 kB]\n",
            "Get:19 https://developer.download.nvidia.com/compute/cuda/repos/ubuntu1804/x86_64  Packages [947 kB]\n",
            "Get:21 http://ppa.launchpad.net/graphics-drivers/ppa/ubuntu bionic/main amd64 Packages [48.3 kB]\n",
            "Fetched 14.8 MB in 3s (5,603 kB/s)\n",
            "Reading package lists... Done\n",
            "update-alternatives: using /usr/lib/jvm/java-8-openjdk-amd64/jre/bin/java to provide /usr/bin/java (java) in manual mode\n",
            "openjdk version \"1.8.0_342\"\n",
            "OpenJDK Runtime Environment (build 1.8.0_342-8u342-b07-0ubuntu1~18.04-b07)\n",
            "OpenJDK 64-Bit Server VM (build 25.342-b07, mixed mode)\n",
            "Looking in indexes: https://pypi.org/simple, https://us-python.pkg.dev/colab-wheels/public/simple/\n",
            "Collecting pyspark\n",
            "  Downloading pyspark-3.3.0.tar.gz (281.3 MB)\n",
            "\u001b[K     |████████████████████████████████| 281.3 MB 49 kB/s \n",
            "\u001b[?25hCollecting py4j==0.10.9.5\n",
            "  Downloading py4j-0.10.9.5-py2.py3-none-any.whl (199 kB)\n",
            "\u001b[K     |████████████████████████████████| 199 kB 60.8 MB/s \n",
            "\u001b[?25hBuilding wheels for collected packages: pyspark\n",
            "  Building wheel for pyspark (setup.py) ... \u001b[?25l\u001b[?25hdone\n",
            "  Created wheel for pyspark: filename=pyspark-3.3.0-py2.py3-none-any.whl size=281764026 sha256=14086441e29c1e38032dd59d6332aaf064e6f3e96ded7e27952f60c179c8b8e3\n",
            "  Stored in directory: /root/.cache/pip/wheels/7a/8e/1b/f73a52650d2e5f337708d9f6a1750d451a7349a867f928b885\n",
            "Successfully built pyspark\n",
            "Installing collected packages: py4j, pyspark\n",
            "Successfully installed py4j-0.10.9.5 pyspark-3.3.0\n",
            "Looking in indexes: https://pypi.org/simple, https://us-python.pkg.dev/colab-wheels/public/simple/\n",
            "Collecting construct\n",
            "  Downloading construct-2.10.68.tar.gz (57 kB)\n",
            "\u001b[K     |████████████████████████████████| 57 kB 5.5 MB/s \n",
            "\u001b[?25hBuilding wheels for collected packages: construct\n",
            "  Building wheel for construct (setup.py) ... \u001b[?25l\u001b[?25hdone\n",
            "  Created wheel for construct: filename=construct-2.10.68-py3-none-any.whl size=59227 sha256=e3fb208257aaec19462884a0841f93ceb4c80e932e16122ebda4e3c97083da09\n",
            "  Stored in directory: /root/.cache/pip/wheels/32/b9/a0/30cd99f34b5d16190994a5a110d32c44712dd33507e7de2fad\n",
            "Successfully built construct\n",
            "Installing collected packages: construct\n",
            "Successfully installed construct-2.10.68\n"
          ]
        }
      ],
      "source": [
        "!apt-get update\n",
        "!apt-get install openjdk-8-jdk-headless -qq > /dev/null\n",
        "import os\n",
        "os.environ[\"JAVA_HOME\"] = \"/usr/lib/jvm/java-8-openjdk-amd64\"\n",
        "!update-alternatives --set java /usr/lib/jvm/java-8-openjdk-amd64/jre/bin/java\n",
        "!java -version\n",
        "!pip install pyspark\n",
        "!pip install construct"
      ]
    },
    {
      "cell_type": "code",
      "source": [
        "      #ZZZZZZZZZZZZZZZZZZZZZZZZZZZZZZZZZZZZZZZZZZZzZ1`1"
      ],
      "metadata": {
        "id": "clYYe3QlBE8f"
      },
      "execution_count": null,
      "outputs": []
    },
    {
      "cell_type": "code",
      "source": [
        "!7z x DummyGeometryforPHDwork.7z"
      ],
      "metadata": {
        "id": "bgUAioqwLJKB",
        "colab": {
          "base_uri": "https://localhost:8080/"
        },
        "outputId": "bc25c02f-a78f-4319-a6c1-3643dc69968e"
      },
      "execution_count": null,
      "outputs": [
        {
          "output_type": "stream",
          "name": "stdout",
          "text": [
            "\n",
            "7-Zip [64] 16.02 : Copyright (c) 1999-2016 Igor Pavlov : 2016-05-21\n",
            "p7zip Version 16.02 (locale=en_US.UTF-8,Utf16=on,HugeFiles=on,64 bits,2 CPUs Intel(R) Xeon(R) CPU @ 2.20GHz (406F0),ASM,AES-NI)\n",
            "\n",
            "Scanning the drive for archives:\n",
            "  0M Scan\b\b\b\b\b\b\b\b\b         \b\b\b\b\b\b\b\b\b1 file, 30742711 bytes (30 MiB)\n",
            "\n",
            "Extracting archive: DummyGeometryforPHDwork.7z\n",
            "--\n",
            "Path = DummyGeometryforPHDwork.7z\n",
            "Type = 7z\n",
            "Physical Size = 30742711\n",
            "Headers Size = 1602\n",
            "Method = LZMA2:24\n",
            "Solid = +\n",
            "Blocks = 2\n",
            "\n",
            "  0%\b\b\b\b    \b\b\b\b  9% 26 - DummyGeometry/mach0.200_aoa10. . 00_aoa10.00_beta0.00-POINT.dat\b\b\b\b\b\b\b\b\b\b\b\b\b\b\b\b\b\b\b\b\b\b\b\b\b\b\b\b\b\b\b\b\b\b\b\b\b\b\b\b\b\b\b\b\b\b\b\b\b\b\b\b\b\b\b\b\b\b\b\b\b\b\b\b\b\b\b\b\b\b\b\b\b                                                                         \b\b\b\b\b\b\b\b\b\b\b\b\b\b\b\b\b\b\b\b\b\b\b\b\b\b\b\b\b\b\b\b\b\b\b\b\b\b\b\b\b\b\b\b\b\b\b\b\b\b\b\b\b\b\b\b\b\b\b\b\b\b\b\b\b\b\b\b\b\b\b\b\b 20% 35 - DummyGeometry/mach0.200_aoa6.00 . _mach0.200_aoa6.00_beta0.00.plt\b\b\b\b\b\b\b\b\b\b\b\b\b\b\b\b\b\b\b\b\b\b\b\b\b\b\b\b\b\b\b\b\b\b\b\b\b\b\b\b\b\b\b\b\b\b\b\b\b\b\b\b\b\b\b\b\b\b\b\b\b\b\b\b\b\b\b\b\b\b\b\b\b\b\b                                                                           \b\b\b\b\b\b\b\b\b\b\b\b\b\b\b\b\b\b\b\b\b\b\b\b\b\b\b\b\b\b\b\b\b\b\b\b\b\b\b\b\b\b\b\b\b\b\b\b\b\b\b\b\b\b\b\b\b\b\b\b\b\b\b\b\b\b\b\b\b\b\b\b\b\b\b 30% 43 - DummyGeometry/mach0.600_aoa0.00 . _mach0.600_aoa0.00_beta0.00.plt\b\b\b\b\b\b\b\b\b\b\b\b\b\b\b\b\b\b\b\b\b\b\b\b\b\b\b\b\b\b\b\b\b\b\b\b\b\b\b\b\b\b\b\b\b\b\b\b\b\b\b\b\b\b\b\b\b\b\b\b\b\b\b\b\b\b\b\b\b\b\b\b\b\b\b                                                                           \b\b\b\b\b\b\b\b\b\b\b\b\b\b\b\b\b\b\b\b\b\b\b\b\b\b\b\b\b\b\b\b\b\b\b\b\b\b\b\b\b\b\b\b\b\b\b\b\b\b\b\b\b\b\b\b\b\b\b\b\b\b\b\b\b\b\b\b\b\b\b\b\b\b\b 41% 52 - DummyGeometry/mach0.600_aoa6.00_b . esults_mach0.600_aoa6.00_beta0.00\b\b\b\b\b\b\b\b\b\b\b\b\b\b\b\b\b\b\b\b\b\b\b\b\b\b\b\b\b\b\b\b\b\b\b\b\b\b\b\b\b\b\b\b\b\b\b\b\b\b\b\b\b\b\b\b\b\b\b\b\b\b\b\b\b\b\b\b\b\b\b\b\b\b\b\b\b\b\b                                                                               \b\b\b\b\b\b\b\b\b\b\b\b\b\b\b\b\b\b\b\b\b\b\b\b\b\b\b\b\b\b\b\b\b\b\b\b\b\b\b\b\b\b\b\b\b\b\b\b\b\b\b\b\b\b\b\b\b\b\b\b\b\b\b\b\b\b\b\b\b\b\b\b\b\b\b\b\b\b\b 51% 62 - DummyGeometry/mach0.800_aoa0.00_b . h0.800_aoa0.00_beta0.00-POINT.dat\b\b\b\b\b\b\b\b\b\b\b\b\b\b\b\b\b\b\b\b\b\b\b\b\b\b\b\b\b\b\b\b\b\b\b\b\b\b\b\b\b\b\b\b\b\b\b\b\b\b\b\b\b\b\b\b\b\b\b\b\b\b\b\b\b\b\b\b\b\b\b\b\b\b\b\b\b\b\b                                                                               \b\b\b\b\b\b\b\b\b\b\b\b\b\b\b\b\b\b\b\b\b\b\b\b\b\b\b\b\b\b\b\b\b\b\b\b\b\b\b\b\b\b\b\b\b\b\b\b\b\b\b\b\b\b\b\b\b\b\b\b\b\b\b\b\b\b\b\b\b\b\b\b\b\b\b\b\b\b\b 64% 70 - DummyGeometry/mach0.800_aoa4.00_b . h0.800_aoa4.00_beta0.00-POINT.dat\b\b\b\b\b\b\b\b\b\b\b\b\b\b\b\b\b\b\b\b\b\b\b\b\b\b\b\b\b\b\b\b\b\b\b\b\b\b\b\b\b\b\b\b\b\b\b\b\b\b\b\b\b\b\b\b\b\b\b\b\b\b\b\b\b\b\b\b\b\b\b\b\b\b\b\b\b\b\b                                                                               \b\b\b\b\b\b\b\b\b\b\b\b\b\b\b\b\b\b\b\b\b\b\b\b\b\b\b\b\b\b\b\b\b\b\b\b\b\b\b\b\b\b\b\b\b\b\b\b\b\b\b\b\b\b\b\b\b\b\b\b\b\b\b\b\b\b\b\b\b\b\b\b\b\b\b\b\b\b\b 71% 77 - DummyGeometry/mach0.800_aoa8.00_b . h0.800_aoa8.00_beta0.00-BLOCK.dat\b\b\b\b\b\b\b\b\b\b\b\b\b\b\b\b\b\b\b\b\b\b\b\b\b\b\b\b\b\b\b\b\b\b\b\b\b\b\b\b\b\b\b\b\b\b\b\b\b\b\b\b\b\b\b\b\b\b\b\b\b\b\b\b\b\b\b\b\b\b\b\b\b\b\b\b\b\b\b                                                                               \b\b\b\b\b\b\b\b\b\b\b\b\b\b\b\b\b\b\b\b\b\b\b\b\b\b\b\b\b\b\b\b\b\b\b\b\b\b\b\b\b\b\b\b\b\b\b\b\b\b\b\b\b\b\b\b\b\b\b\b\b\b\b\b\b\b\b\b\b\b\b\b\b\b\b\b\b\b\b 82% 83 - DummyGeometry/mach1.000_aoa0.00 . _mach1.000_aoa0.00_beta0.00.plt\b\b\b\b\b\b\b\b\b\b\b\b\b\b\b\b\b\b\b\b\b\b\b\b\b\b\b\b\b\b\b\b\b\b\b\b\b\b\b\b\b\b\b\b\b\b\b\b\b\b\b\b\b\b\b\b\b\b\b\b\b\b\b\b\b\b\b\b\b\b\b\b\b\b\b                                                                           \b\b\b\b\b\b\b\b\b\b\b\b\b\b\b\b\b\b\b\b\b\b\b\b\b\b\b\b\b\b\b\b\b\b\b\b\b\b\b\b\b\b\b\b\b\b\b\b\b\b\b\b\b\b\b\b\b\b\b\b\b\b\b\b\b\b\b\b\b\b\b\b\b\b\b 92% 93 - DummyGeometry/mach1.000_aoa6.00_b . h1.000_aoa6.00_beta0.00-BLOCK.dat\b\b\b\b\b\b\b\b\b\b\b\b\b\b\b\b\b\b\b\b\b\b\b\b\b\b\b\b\b\b\b\b\b\b\b\b\b\b\b\b\b\b\b\b\b\b\b\b\b\b\b\b\b\b\b\b\b\b\b\b\b\b\b\b\b\b\b\b\b\b\b\b\b\b\b\b\b\b\b                                                                               \b\b\b\b\b\b\b\b\b\b\b\b\b\b\b\b\b\b\b\b\b\b\b\b\b\b\b\b\b\b\b\b\b\b\b\b\b\b\b\b\b\b\b\b\b\b\b\b\b\b\b\b\b\b\b\b\b\b\b\b\b\b\b\b\b\b\b\b\b\b\b\b\b\b\b\b\b\b\bEverything is Ok\n",
            "\n",
            "Folders: 21\n",
            "Files: 82\n",
            "Size:       147571907\n",
            "Compressed: 30742711\n"
          ]
        }
      ]
    },
    {
      "cell_type": "code",
      "source": [
        "import os\n",
        "file_paths = [] \n",
        "for root, dirs, files in os.walk(\"./DummyGeometry\"):\n",
        "    for file in files:\n",
        "        if file.endswith(\".plt\"):\n",
        "             file_paths.append(os.path.join(root, file))\n",
        "print(file_paths)"
      ],
      "metadata": {
        "colab": {
          "base_uri": "https://localhost:8080/"
        },
        "id": "h_f10FkTHl9P",
        "outputId": "28c48860-0d24-422b-dacc-2a5d91dc099f"
      },
      "execution_count": null,
      "outputs": [
        {
          "output_type": "stream",
          "name": "stdout",
          "text": [
            "['./DummyGeometry/mach1.000_aoa0.00_beta0.00/Tecplot_mach1.000_aoa0.00_beta0.00.plt', './DummyGeometry/mach0.600_aoa4.00_beta0.00/Tecplot_mach0.600_aoa4.00_beta0.00.plt', './DummyGeometry/mach0.600_aoa6.00_beta0.00/Tecplot_mach0.600_aoa6.00_beta0.00.plt', './DummyGeometry/mach1.000_aoa4.00_beta0.00/Tecplot_mach1.000_aoa4.00_beta0.00.plt', './DummyGeometry/mach0.800_aoa8.00_beta0.00/Tecplot_mach0.800_aoa8.00_beta0.00.plt', './DummyGeometry/mach0.200_aoa6.00_beta0.00/Tecplot_mach0.200_aoa6.00_beta0.00.plt', './DummyGeometry/mach0.800_aoa6.00_beta0.00/Tecplot_mach0.800_aoa6.00_beta0.00.plt', './DummyGeometry/mach1.000_aoa6.00_beta0.00/Tecplot_mach1.000_aoa6.00_beta0.00.plt', './DummyGeometry/mach1.000_aoa8.00_beta0.00/Tecplot_mach1.000_aoa8.00_beta0.00.plt', './DummyGeometry/mach0.800_aoa10.00_beta0.00/Tecplot_mach0.800_aoa10.00_beta0.00.plt', './DummyGeometry/mach0.200_aoa4.00_beta0.00/Tecplot_mach0.200_aoa4.00_beta0.00.plt', './DummyGeometry/mach0.600_aoa8.00_beta0.00/Tecplot_mach0.600_aoa8.00_beta0.00.plt', './DummyGeometry/mach1.000_aoa10.00_beta0.00/Tecplot_mach1.000_aoa10.00_beta0.00.plt', './DummyGeometry/mach0.200_aoa10.00_beta0.00/Tecplot_mach0.200_aoa10.00_beta0.00.plt', './DummyGeometry/mach0.200_aoa8.00_beta0.00/Tecplot_mach0.200_aoa8.00_beta0.00.plt', './DummyGeometry/mach0.600_aoa0.00_beta0.00/Tecplot_mach0.600_aoa0.00_beta0.00.plt', './DummyGeometry/mach0.800_aoa0.00_beta0.00/Tecplot_mach0.800_aoa0.00_beta0.00.plt', './DummyGeometry/mach0.200_aoa0.00_beta0.00/Tecplot_mach0.200_aoa0.00_beta0.00.plt', './DummyGeometry/mach0.800_aoa4.00_beta0.00/Tecplot_mach0.800_aoa4.00_beta0.00.plt', './DummyGeometry/mach0.600_aoa10.00_beta0.00/Tecplot_mach0.600_aoa10.00_beta0.00.plt']\n"
          ]
        }
      ]
    },
    {
      "cell_type": "code",
      "source": [],
      "metadata": {
        "id": "RKnq4rv4QXq1"
      },
      "execution_count": null,
      "outputs": []
    },
    {
      "cell_type": "code",
      "source": [
        "# Spark Session, Pipeline, Functions, and Metrics\n",
        "from pyspark import SparkContext, SparkConf\n",
        "from pyspark.sql import SQLContext, SparkSession\n",
        "from pyspark.ml.feature import OneHotEncoder, StringIndexer, StandardScaler, VectorAssembler\n",
        "from pyspark.ml import Pipeline\n",
        "from pyspark.sql.functions import rand\n",
        "from pyspark.ml.stat import Correlation\n",
        "from pyspark.ml.linalg import Vector\n",
        "from pyspark.ml.regression import GBTRegressor\n",
        "from pyspark.ml.feature import VectorIndexer\n",
        "from pyspark.ml.evaluation import RegressionEvaluator"
      ],
      "metadata": {
        "id": "MrHzAal5TtHs"
      },
      "execution_count": null,
      "outputs": []
    },
    {
      "cell_type": "code",
      "source": [
        "spark = SparkSession \\\n",
        "    .builder \\\n",
        "    .appName(\"Python Spark SQL basic example\") \\\n",
        "    .getOrCreate()"
      ],
      "metadata": {
        "id": "LzKoQ8D7RS7d"
      },
      "execution_count": null,
      "outputs": []
    },
    {
      "cell_type": "code",
      "source": [
        "\n",
        "import re\n",
        "import numpy as np\n",
        "import pltreader as plt\n",
        "\n",
        "dataset = []\n",
        "for item in file_paths:\n",
        "  file_content={}\n",
        "  pat = re.compile(\"mach(.*)_aoa(.*)_beta(.*)/\")\n",
        "  obj = pat.search(item)\n",
        "  mach = float(obj.group(1))\n",
        "  aoa = float(obj.group(2))\n",
        "  beta = float(obj.group(3))\n",
        "  with open( item, 'rb') as f:\n",
        "    bytelist = f.read()\n",
        "  header = plt.read_header(bytelist)\n",
        "  data = plt.read_data(bytelist,header)\n",
        "  for zone_id in range (len(data['Zones'])):\n",
        "    zone_shape = data['Zones'][zone_id]['Pressure'].shape\n",
        "    data['Zones'][zone_id]['mach']=mach*np.ones(zone_shape, dtype = 'float32')\n",
        "    data['Zones'][zone_id]['aoa']=aoa*np.ones(zone_shape, dtype = 'float32')\n",
        "    data['Zones'][zone_id]['beta']=beta*np.ones(zone_shape, dtype = 'float32')\n",
        "\n",
        "\n",
        "  file_content['data'] = data\n",
        "  dataset.append(file_content)"
      ],
      "metadata": {
        "id": "QX6xgaBlT4WX"
      },
      "execution_count": null,
      "outputs": []
    },
    {
      "cell_type": "code",
      "source": [
        "cols=['mach','aoa','beta']+header['VarNames']\n",
        "zid=0\n",
        "m=[]\n",
        "for fid in range(len(file_paths)):\n",
        "  t=[]\n",
        "  for col in cols:\n",
        "    t.append(dataset[fid]['data']['Zones'][zid][col])\n",
        "  m.append(np.vstack(t))\n",
        "s=np.hstack(m).transpose()"
      ],
      "metadata": {
        "id": "0sap4Tjc74u6"
      },
      "execution_count": null,
      "outputs": []
    },
    {
      "cell_type": "code",
      "source": [
        "# dataset[file_id]['data']['Zones'][zone_id][var_name])"
      ],
      "metadata": {
        "id": "WG6ji78xUHz_"
      },
      "execution_count": null,
      "outputs": []
    },
    {
      "cell_type": "code",
      "source": [
        "df=spark.createDataFrame(s.tolist(),cols)"
      ],
      "metadata": {
        "id": "LQG1L_PoDdxM"
      },
      "execution_count": null,
      "outputs": []
    },
    {
      "cell_type": "code",
      "source": [
        "df.limit(15).toPandas()"
      ],
      "metadata": {
        "id": "fOXJiSCVDCKL",
        "colab": {
          "base_uri": "https://localhost:8080/",
          "height": 616
        },
        "outputId": "d33b0701-918d-4ae5-ae2c-b9fbae638f98"
      },
      "execution_count": null,
      "outputs": [
        {
          "output_type": "execute_result",
          "data": {
            "text/plain": [
              "    mach  aoa  beta  CoordinateX  CoordinateY  CoordinateZ  \\\n",
              "0    1.0  0.0   0.0    11.741610    -1.658558     0.277781   \n",
              "1    1.0  0.0   0.0    11.738341    -1.697367     0.270796   \n",
              "2    1.0  0.0   0.0    11.705114    -1.663811     0.269339   \n",
              "3    1.0  0.0   0.0    11.774469    -1.584260     0.253532   \n",
              "4    1.0  0.0   0.0    11.839085    -1.553269     0.251952   \n",
              "5    1.0  0.0   0.0    11.764987    -1.520234     0.249566   \n",
              "6    1.0  0.0   0.0    11.745173    -1.656447     0.262674   \n",
              "7    1.0  0.0   0.0    11.768639    -1.693918     0.265840   \n",
              "8    1.0  0.0   0.0    11.790966    -1.668062     0.260443   \n",
              "9    1.0  0.0   0.0    11.765932    -1.685940     0.278404   \n",
              "10   1.0  0.0   0.0    11.816333    -1.626253     0.255744   \n",
              "11   1.0  0.0   0.0    11.806889    -1.453409     0.247786   \n",
              "12   1.0  0.0   0.0    11.771569    -1.730922     0.272252   \n",
              "13   1.0  0.0   0.0    11.801685    -1.713485     0.265280   \n",
              "14   1.0  0.0   0.0    11.844545    -1.690250     0.259992   \n",
              "\n",
              "    X Component Wall Shear      Pressure  Pressure Coefficient  \\\n",
              "0               213.831421  12711.195312              0.179342   \n",
              "1               238.749771  -1151.620972             -0.016248   \n",
              "2               227.467361   1780.602661              0.025122   \n",
              "3               160.542801 -32521.728516             -0.458848   \n",
              "4               165.042542 -34348.320312             -0.484620   \n",
              "5               168.176559 -33003.746094             -0.465649   \n",
              "6               184.745331 -29742.916016             -0.419642   \n",
              "7               192.975708 -30481.328125             -0.430060   \n",
              "8               160.722336 -32474.470703             -0.458182   \n",
              "9               220.446304  11685.561523              0.164871   \n",
              "10              156.871490 -33663.574219             -0.474959   \n",
              "11              167.535583 -32864.878906             -0.463690   \n",
              "12              236.124435  -2600.671387             -0.036693   \n",
              "13              183.309341 -30080.927734             -0.424411   \n",
              "14              170.963226 -33850.207031             -0.477592   \n",
              "\n",
              "    Y Component Wall Shear  Z Component Wall Shear  \n",
              "0               -13.474180               36.881374  \n",
              "1               -25.190208                3.711837  \n",
              "2               -29.553242                4.312670  \n",
              "3                 2.522774               -3.912574  \n",
              "4                 3.872399                2.740007  \n",
              "5                 3.399415               -0.360350  \n",
              "6                -2.657237              -19.765045  \n",
              "7                -2.042527              -23.169786  \n",
              "8                -1.928058              -10.442727  \n",
              "9               -22.545374               36.185158  \n",
              "10                2.860632               -3.199295  \n",
              "11               -1.097978                5.866814  \n",
              "12              -23.174459                5.415443  \n",
              "13                2.362385              -18.944986  \n",
              "14                2.067399               -7.213260  "
            ],
            "text/html": [
              "\n",
              "  <div id=\"df-cce1bec6-1c9c-4175-88c0-a26793c1caca\">\n",
              "    <div class=\"colab-df-container\">\n",
              "      <div>\n",
              "<style scoped>\n",
              "    .dataframe tbody tr th:only-of-type {\n",
              "        vertical-align: middle;\n",
              "    }\n",
              "\n",
              "    .dataframe tbody tr th {\n",
              "        vertical-align: top;\n",
              "    }\n",
              "\n",
              "    .dataframe thead th {\n",
              "        text-align: right;\n",
              "    }\n",
              "</style>\n",
              "<table border=\"1\" class=\"dataframe\">\n",
              "  <thead>\n",
              "    <tr style=\"text-align: right;\">\n",
              "      <th></th>\n",
              "      <th>mach</th>\n",
              "      <th>aoa</th>\n",
              "      <th>beta</th>\n",
              "      <th>CoordinateX</th>\n",
              "      <th>CoordinateY</th>\n",
              "      <th>CoordinateZ</th>\n",
              "      <th>X Component Wall Shear</th>\n",
              "      <th>Pressure</th>\n",
              "      <th>Pressure Coefficient</th>\n",
              "      <th>Y Component Wall Shear</th>\n",
              "      <th>Z Component Wall Shear</th>\n",
              "    </tr>\n",
              "  </thead>\n",
              "  <tbody>\n",
              "    <tr>\n",
              "      <th>0</th>\n",
              "      <td>1.0</td>\n",
              "      <td>0.0</td>\n",
              "      <td>0.0</td>\n",
              "      <td>11.741610</td>\n",
              "      <td>-1.658558</td>\n",
              "      <td>0.277781</td>\n",
              "      <td>213.831421</td>\n",
              "      <td>12711.195312</td>\n",
              "      <td>0.179342</td>\n",
              "      <td>-13.474180</td>\n",
              "      <td>36.881374</td>\n",
              "    </tr>\n",
              "    <tr>\n",
              "      <th>1</th>\n",
              "      <td>1.0</td>\n",
              "      <td>0.0</td>\n",
              "      <td>0.0</td>\n",
              "      <td>11.738341</td>\n",
              "      <td>-1.697367</td>\n",
              "      <td>0.270796</td>\n",
              "      <td>238.749771</td>\n",
              "      <td>-1151.620972</td>\n",
              "      <td>-0.016248</td>\n",
              "      <td>-25.190208</td>\n",
              "      <td>3.711837</td>\n",
              "    </tr>\n",
              "    <tr>\n",
              "      <th>2</th>\n",
              "      <td>1.0</td>\n",
              "      <td>0.0</td>\n",
              "      <td>0.0</td>\n",
              "      <td>11.705114</td>\n",
              "      <td>-1.663811</td>\n",
              "      <td>0.269339</td>\n",
              "      <td>227.467361</td>\n",
              "      <td>1780.602661</td>\n",
              "      <td>0.025122</td>\n",
              "      <td>-29.553242</td>\n",
              "      <td>4.312670</td>\n",
              "    </tr>\n",
              "    <tr>\n",
              "      <th>3</th>\n",
              "      <td>1.0</td>\n",
              "      <td>0.0</td>\n",
              "      <td>0.0</td>\n",
              "      <td>11.774469</td>\n",
              "      <td>-1.584260</td>\n",
              "      <td>0.253532</td>\n",
              "      <td>160.542801</td>\n",
              "      <td>-32521.728516</td>\n",
              "      <td>-0.458848</td>\n",
              "      <td>2.522774</td>\n",
              "      <td>-3.912574</td>\n",
              "    </tr>\n",
              "    <tr>\n",
              "      <th>4</th>\n",
              "      <td>1.0</td>\n",
              "      <td>0.0</td>\n",
              "      <td>0.0</td>\n",
              "      <td>11.839085</td>\n",
              "      <td>-1.553269</td>\n",
              "      <td>0.251952</td>\n",
              "      <td>165.042542</td>\n",
              "      <td>-34348.320312</td>\n",
              "      <td>-0.484620</td>\n",
              "      <td>3.872399</td>\n",
              "      <td>2.740007</td>\n",
              "    </tr>\n",
              "    <tr>\n",
              "      <th>5</th>\n",
              "      <td>1.0</td>\n",
              "      <td>0.0</td>\n",
              "      <td>0.0</td>\n",
              "      <td>11.764987</td>\n",
              "      <td>-1.520234</td>\n",
              "      <td>0.249566</td>\n",
              "      <td>168.176559</td>\n",
              "      <td>-33003.746094</td>\n",
              "      <td>-0.465649</td>\n",
              "      <td>3.399415</td>\n",
              "      <td>-0.360350</td>\n",
              "    </tr>\n",
              "    <tr>\n",
              "      <th>6</th>\n",
              "      <td>1.0</td>\n",
              "      <td>0.0</td>\n",
              "      <td>0.0</td>\n",
              "      <td>11.745173</td>\n",
              "      <td>-1.656447</td>\n",
              "      <td>0.262674</td>\n",
              "      <td>184.745331</td>\n",
              "      <td>-29742.916016</td>\n",
              "      <td>-0.419642</td>\n",
              "      <td>-2.657237</td>\n",
              "      <td>-19.765045</td>\n",
              "    </tr>\n",
              "    <tr>\n",
              "      <th>7</th>\n",
              "      <td>1.0</td>\n",
              "      <td>0.0</td>\n",
              "      <td>0.0</td>\n",
              "      <td>11.768639</td>\n",
              "      <td>-1.693918</td>\n",
              "      <td>0.265840</td>\n",
              "      <td>192.975708</td>\n",
              "      <td>-30481.328125</td>\n",
              "      <td>-0.430060</td>\n",
              "      <td>-2.042527</td>\n",
              "      <td>-23.169786</td>\n",
              "    </tr>\n",
              "    <tr>\n",
              "      <th>8</th>\n",
              "      <td>1.0</td>\n",
              "      <td>0.0</td>\n",
              "      <td>0.0</td>\n",
              "      <td>11.790966</td>\n",
              "      <td>-1.668062</td>\n",
              "      <td>0.260443</td>\n",
              "      <td>160.722336</td>\n",
              "      <td>-32474.470703</td>\n",
              "      <td>-0.458182</td>\n",
              "      <td>-1.928058</td>\n",
              "      <td>-10.442727</td>\n",
              "    </tr>\n",
              "    <tr>\n",
              "      <th>9</th>\n",
              "      <td>1.0</td>\n",
              "      <td>0.0</td>\n",
              "      <td>0.0</td>\n",
              "      <td>11.765932</td>\n",
              "      <td>-1.685940</td>\n",
              "      <td>0.278404</td>\n",
              "      <td>220.446304</td>\n",
              "      <td>11685.561523</td>\n",
              "      <td>0.164871</td>\n",
              "      <td>-22.545374</td>\n",
              "      <td>36.185158</td>\n",
              "    </tr>\n",
              "    <tr>\n",
              "      <th>10</th>\n",
              "      <td>1.0</td>\n",
              "      <td>0.0</td>\n",
              "      <td>0.0</td>\n",
              "      <td>11.816333</td>\n",
              "      <td>-1.626253</td>\n",
              "      <td>0.255744</td>\n",
              "      <td>156.871490</td>\n",
              "      <td>-33663.574219</td>\n",
              "      <td>-0.474959</td>\n",
              "      <td>2.860632</td>\n",
              "      <td>-3.199295</td>\n",
              "    </tr>\n",
              "    <tr>\n",
              "      <th>11</th>\n",
              "      <td>1.0</td>\n",
              "      <td>0.0</td>\n",
              "      <td>0.0</td>\n",
              "      <td>11.806889</td>\n",
              "      <td>-1.453409</td>\n",
              "      <td>0.247786</td>\n",
              "      <td>167.535583</td>\n",
              "      <td>-32864.878906</td>\n",
              "      <td>-0.463690</td>\n",
              "      <td>-1.097978</td>\n",
              "      <td>5.866814</td>\n",
              "    </tr>\n",
              "    <tr>\n",
              "      <th>12</th>\n",
              "      <td>1.0</td>\n",
              "      <td>0.0</td>\n",
              "      <td>0.0</td>\n",
              "      <td>11.771569</td>\n",
              "      <td>-1.730922</td>\n",
              "      <td>0.272252</td>\n",
              "      <td>236.124435</td>\n",
              "      <td>-2600.671387</td>\n",
              "      <td>-0.036693</td>\n",
              "      <td>-23.174459</td>\n",
              "      <td>5.415443</td>\n",
              "    </tr>\n",
              "    <tr>\n",
              "      <th>13</th>\n",
              "      <td>1.0</td>\n",
              "      <td>0.0</td>\n",
              "      <td>0.0</td>\n",
              "      <td>11.801685</td>\n",
              "      <td>-1.713485</td>\n",
              "      <td>0.265280</td>\n",
              "      <td>183.309341</td>\n",
              "      <td>-30080.927734</td>\n",
              "      <td>-0.424411</td>\n",
              "      <td>2.362385</td>\n",
              "      <td>-18.944986</td>\n",
              "    </tr>\n",
              "    <tr>\n",
              "      <th>14</th>\n",
              "      <td>1.0</td>\n",
              "      <td>0.0</td>\n",
              "      <td>0.0</td>\n",
              "      <td>11.844545</td>\n",
              "      <td>-1.690250</td>\n",
              "      <td>0.259992</td>\n",
              "      <td>170.963226</td>\n",
              "      <td>-33850.207031</td>\n",
              "      <td>-0.477592</td>\n",
              "      <td>2.067399</td>\n",
              "      <td>-7.213260</td>\n",
              "    </tr>\n",
              "  </tbody>\n",
              "</table>\n",
              "</div>\n",
              "      <button class=\"colab-df-convert\" onclick=\"convertToInteractive('df-cce1bec6-1c9c-4175-88c0-a26793c1caca')\"\n",
              "              title=\"Convert this dataframe to an interactive table.\"\n",
              "              style=\"display:none;\">\n",
              "        \n",
              "  <svg xmlns=\"http://www.w3.org/2000/svg\" height=\"24px\"viewBox=\"0 0 24 24\"\n",
              "       width=\"24px\">\n",
              "    <path d=\"M0 0h24v24H0V0z\" fill=\"none\"/>\n",
              "    <path d=\"M18.56 5.44l.94 2.06.94-2.06 2.06-.94-2.06-.94-.94-2.06-.94 2.06-2.06.94zm-11 1L8.5 8.5l.94-2.06 2.06-.94-2.06-.94L8.5 2.5l-.94 2.06-2.06.94zm10 10l.94 2.06.94-2.06 2.06-.94-2.06-.94-.94-2.06-.94 2.06-2.06.94z\"/><path d=\"M17.41 7.96l-1.37-1.37c-.4-.4-.92-.59-1.43-.59-.52 0-1.04.2-1.43.59L10.3 9.45l-7.72 7.72c-.78.78-.78 2.05 0 2.83L4 21.41c.39.39.9.59 1.41.59.51 0 1.02-.2 1.41-.59l7.78-7.78 2.81-2.81c.8-.78.8-2.07 0-2.86zM5.41 20L4 18.59l7.72-7.72 1.47 1.35L5.41 20z\"/>\n",
              "  </svg>\n",
              "      </button>\n",
              "      \n",
              "  <style>\n",
              "    .colab-df-container {\n",
              "      display:flex;\n",
              "      flex-wrap:wrap;\n",
              "      gap: 12px;\n",
              "    }\n",
              "\n",
              "    .colab-df-convert {\n",
              "      background-color: #E8F0FE;\n",
              "      border: none;\n",
              "      border-radius: 50%;\n",
              "      cursor: pointer;\n",
              "      display: none;\n",
              "      fill: #1967D2;\n",
              "      height: 32px;\n",
              "      padding: 0 0 0 0;\n",
              "      width: 32px;\n",
              "    }\n",
              "\n",
              "    .colab-df-convert:hover {\n",
              "      background-color: #E2EBFA;\n",
              "      box-shadow: 0px 1px 2px rgba(60, 64, 67, 0.3), 0px 1px 3px 1px rgba(60, 64, 67, 0.15);\n",
              "      fill: #174EA6;\n",
              "    }\n",
              "\n",
              "    [theme=dark] .colab-df-convert {\n",
              "      background-color: #3B4455;\n",
              "      fill: #D2E3FC;\n",
              "    }\n",
              "\n",
              "    [theme=dark] .colab-df-convert:hover {\n",
              "      background-color: #434B5C;\n",
              "      box-shadow: 0px 1px 3px 1px rgba(0, 0, 0, 0.15);\n",
              "      filter: drop-shadow(0px 1px 2px rgba(0, 0, 0, 0.3));\n",
              "      fill: #FFFFFF;\n",
              "    }\n",
              "  </style>\n",
              "\n",
              "      <script>\n",
              "        const buttonEl =\n",
              "          document.querySelector('#df-cce1bec6-1c9c-4175-88c0-a26793c1caca button.colab-df-convert');\n",
              "        buttonEl.style.display =\n",
              "          google.colab.kernel.accessAllowed ? 'block' : 'none';\n",
              "\n",
              "        async function convertToInteractive(key) {\n",
              "          const element = document.querySelector('#df-cce1bec6-1c9c-4175-88c0-a26793c1caca');\n",
              "          const dataTable =\n",
              "            await google.colab.kernel.invokeFunction('convertToInteractive',\n",
              "                                                     [key], {});\n",
              "          if (!dataTable) return;\n",
              "\n",
              "          const docLinkHtml = 'Like what you see? Visit the ' +\n",
              "            '<a target=\"_blank\" href=https://colab.research.google.com/notebooks/data_table.ipynb>data table notebook</a>'\n",
              "            + ' to learn more about interactive tables.';\n",
              "          element.innerHTML = '';\n",
              "          dataTable['output_type'] = 'display_data';\n",
              "          await google.colab.output.renderOutput(dataTable, element);\n",
              "          const docLink = document.createElement('div');\n",
              "          docLink.innerHTML = docLinkHtml;\n",
              "          element.appendChild(docLink);\n",
              "        }\n",
              "      </script>\n",
              "    </div>\n",
              "  </div>\n",
              "  "
            ]
          },
          "metadata": {},
          "execution_count": 11
        }
      ]
    },
    {
      "cell_type": "code",
      "source": [
        "assembler= VectorAssembler(\n",
        "    inputCols=['mach','aoa','CoordinateX', 'CoordinateY','CoordinateZ' ],outputCol='features')\n",
        "\n",
        "\n",
        "output= assembler.transform(df)\n",
        "output.show"
      ],
      "metadata": {
        "id": "cDw-JOhsbYP1",
        "colab": {
          "base_uri": "https://localhost:8080/"
        },
        "outputId": "9febb8b3-446f-4fb1-9163-e9e1dc2f4acb"
      },
      "execution_count": null,
      "outputs": [
        {
          "output_type": "execute_result",
          "data": {
            "text/plain": [
              "<bound method DataFrame.show of DataFrame[mach: double, aoa: double, beta: double, CoordinateX: double, CoordinateY: double, CoordinateZ: double, X Component Wall Shear: double, Pressure: double, Pressure Coefficient: double, Y Component Wall Shear: double, Z Component Wall Shear: double, features: vector]>"
            ]
          },
          "metadata": {},
          "execution_count": 12
        }
      ]
    },
    {
      "cell_type": "code",
      "source": [
        "#final data consist of features and label which is medv.\n",
        "final_data=output.select('features','Pressure')\n",
        "#splitting data into train and test\n",
        "train_data,test_data=final_data.randomSplit([0.8,0.2])\n",
        "#creating an object of class LinearRegression\n",
        "#object takes features and label as input arguments\n",
        "#rf = GBTRegressor(featuresCol='features',labelCol='Pressure',maxiter=10)\n",
        "rf = GBTRegressor(featuresCol='features',labelCol='Pressure',maxIter=10)\n",
        "\n",
        "#lr=LinearRegression(featuresCol='features',labelCol='Pressure')"
      ],
      "metadata": {
        "id": "LPI-n112IfzI"
      },
      "execution_count": null,
      "outputs": []
    },
    {
      "cell_type": "code",
      "source": [
        "\n",
        "# Chain indexer and forest in a Pipeline\n",
        "pipeline = Pipeline(stages=[ rf])\n",
        "\n",
        "# Train model.  This also runs the indexer.\n",
        "model = pipeline.fit(train_data)\n",
        "\n",
        "# Make predictions.\n",
        "predictions = model.transform(test_data)\n",
        "\n",
        "# Select example rows to display.\n",
        "predictions.select(\"prediction\", \"Pressure\", \"features\").show(5)\n",
        "\n",
        "# Select (prediction, true label) and compute test error\n",
        "evaluator = RegressionEvaluator(\n",
        "    labelCol=\"Pressure\", predictionCol=\"prediction\", metricName=\"rmse\")\n",
        "rmse = evaluator.evaluate(predictions)\n",
        "print(\"Root Mean Squared Error (RMSE) on test data = %g\" % rmse)\n",
        "\n",
        "rfModel = model.stages[0]\n",
        "print(rfModel)  # summary only"
      ],
      "metadata": {
        "id": "yIFVsoklPn9y",
        "colab": {
          "base_uri": "https://localhost:8080/"
        },
        "outputId": "3a6af2fc-8d55-4bce-d778-aeec43aa8429"
      },
      "execution_count": null,
      "outputs": [
        {
          "output_type": "stream",
          "name": "stdout",
          "text": [
            "+-------------------+-------------------+--------------------+\n",
            "|         prediction|           Pressure|            features|\n",
            "+-------------------+-------------------+--------------------+\n",
            "|-386.41866497791693|-178.48419189453125|[0.20000000298023...|\n",
            "|-222.79916078771436|-198.03683471679688|[0.20000000298023...|\n",
            "|-222.79916078771436|-207.58035278320312|[0.20000000298023...|\n",
            "|-222.79916078771436| -245.3154754638672|[0.20000000298023...|\n",
            "|-222.79916078771436| -186.2625732421875|[0.20000000298023...|\n",
            "+-------------------+-------------------+--------------------+\n",
            "only showing top 5 rows\n",
            "\n",
            "Root Mean Squared Error (RMSE) on test data = 4108.55\n",
            "GBTRegressionModel: uid=GBTRegressor_84336e3b8fdc, numTrees=10, numFeatures=5\n"
          ]
        }
      ]
    },
    {
      "cell_type": "code",
      "source": [
        "#pass train_data to train model\n",
        "lrModel=lr.fit(train_data)\n",
        "# Print the coefficients and intercept for linear regression\n",
        "print(\"Coefficients: %s\" % str(lrModel.coefficients))\n",
        "print(\"Intercept: %s\" % str(lrModel.intercept))\n",
        "# Summarize the model over the training set and print out some metrics\n",
        "trainingSummary = lrModel.summary\n",
        "#print(\"numIterations: %d\" % trainingSummary.totalIterations)\n",
        "#print(\"objectiveHistory: %s\" % str(trainingSummary.objectiveHistory))\n",
        "#trainingSummary.residuals.show()\n",
        "print(\"RMSE: %f\" % trainingSummary.rootMeanSquaredError)\n",
        "print(\"r2: %f\" % trainingSummary.r2)"
      ],
      "metadata": {
        "id": "usTidSYdHUYX",
        "colab": {
          "base_uri": "https://localhost:8080/",
          "height": 235
        },
        "outputId": "efb61ad9-346c-49c3-d1aa-6601f66da991"
      },
      "execution_count": null,
      "outputs": [
        {
          "output_type": "error",
          "ename": "NameError",
          "evalue": "ignored",
          "traceback": [
            "\u001b[0;31m---------------------------------------------------------------------------\u001b[0m",
            "\u001b[0;31mNameError\u001b[0m                                 Traceback (most recent call last)",
            "\u001b[0;32m<ipython-input-15-f566ab58c7fa>\u001b[0m in \u001b[0;36m<module>\u001b[0;34m\u001b[0m\n\u001b[1;32m      1\u001b[0m \u001b[0;31m#pass train_data to train model\u001b[0m\u001b[0;34m\u001b[0m\u001b[0;34m\u001b[0m\u001b[0;34m\u001b[0m\u001b[0m\n\u001b[0;32m----> 2\u001b[0;31m \u001b[0mlrModel\u001b[0m\u001b[0;34m=\u001b[0m\u001b[0mlr\u001b[0m\u001b[0;34m.\u001b[0m\u001b[0mfit\u001b[0m\u001b[0;34m(\u001b[0m\u001b[0mtrain_data\u001b[0m\u001b[0;34m)\u001b[0m\u001b[0;34m\u001b[0m\u001b[0;34m\u001b[0m\u001b[0m\n\u001b[0m\u001b[1;32m      3\u001b[0m \u001b[0;31m# Print the coefficients and intercept for linear regression\u001b[0m\u001b[0;34m\u001b[0m\u001b[0;34m\u001b[0m\u001b[0;34m\u001b[0m\u001b[0m\n\u001b[1;32m      4\u001b[0m \u001b[0mprint\u001b[0m\u001b[0;34m(\u001b[0m\u001b[0;34m\"Coefficients: %s\"\u001b[0m \u001b[0;34m%\u001b[0m \u001b[0mstr\u001b[0m\u001b[0;34m(\u001b[0m\u001b[0mlrModel\u001b[0m\u001b[0;34m.\u001b[0m\u001b[0mcoefficients\u001b[0m\u001b[0;34m)\u001b[0m\u001b[0;34m)\u001b[0m\u001b[0;34m\u001b[0m\u001b[0;34m\u001b[0m\u001b[0m\n\u001b[1;32m      5\u001b[0m \u001b[0mprint\u001b[0m\u001b[0;34m(\u001b[0m\u001b[0;34m\"Intercept: %s\"\u001b[0m \u001b[0;34m%\u001b[0m \u001b[0mstr\u001b[0m\u001b[0;34m(\u001b[0m\u001b[0mlrModel\u001b[0m\u001b[0;34m.\u001b[0m\u001b[0mintercept\u001b[0m\u001b[0;34m)\u001b[0m\u001b[0;34m)\u001b[0m\u001b[0;34m\u001b[0m\u001b[0;34m\u001b[0m\u001b[0m\n",
            "\u001b[0;31mNameError\u001b[0m: name 'lr' is not defined"
          ]
        }
      ]
    }
  ]
}