{
  "nbformat": 4,
  "nbformat_minor": 0,
  "metadata": {
    "colab": {
      "provenance": [],
      "collapsed_sections": [],
      "authorship_tag": "ABX9TyP2l6VSosVMGjaN5Lk/myqT",
      "include_colab_link": true
    },
    "kernelspec": {
      "name": "python3",
      "display_name": "Python 3"
    },
    "language_info": {
      "name": "python"
    },
    "accelerator": "GPU"
  },
  "cells": [
    {
      "cell_type": "markdown",
      "metadata": {
        "id": "view-in-github",
        "colab_type": "text"
      },
      "source": [
        "<a href=\"https://colab.research.google.com/github/SumeyyeSuslu/regression/blob/main/alldata_tecWorking.ipynb\" target=\"_parent\"><img src=\"https://colab.research.google.com/assets/colab-badge.svg\" alt=\"Open In Colab\"/></a>"
      ]
    },
    {
      "cell_type": "code",
      "execution_count": null,
      "metadata": {
        "colab": {
          "base_uri": "https://localhost:8080/"
        },
        "id": "sQJmzzC3_PPv",
        "outputId": "df7999ce-2204-4017-d014-2dbd8946a6df"
      },
      "outputs": [
        {
          "output_type": "stream",
          "name": "stdout",
          "text": [
            "Get:1 https://cloud.r-project.org/bin/linux/ubuntu bionic-cran40/ InRelease [3,626 B]\n",
            "Get:2 http://security.ubuntu.com/ubuntu bionic-security InRelease [88.7 kB]\n",
            "Hit:3 http://archive.ubuntu.com/ubuntu bionic InRelease\n",
            "Get:4 http://archive.ubuntu.com/ubuntu bionic-updates InRelease [88.7 kB]\n",
            "Get:5 http://ppa.launchpad.net/c2d4u.team/c2d4u4.0+/ubuntu bionic InRelease [15.9 kB]\n",
            "Ign:6 https://developer.download.nvidia.com/compute/machine-learning/repos/ubuntu1804/x86_64  InRelease\n",
            "Get:7 https://developer.download.nvidia.com/compute/cuda/repos/ubuntu1804/x86_64  InRelease [1,581 B]\n",
            "Hit:8 https://developer.download.nvidia.com/compute/machine-learning/repos/ubuntu1804/x86_64  Release\n",
            "Hit:9 http://ppa.launchpad.net/cran/libgit2/ubuntu bionic InRelease\n",
            "Get:10 https://developer.download.nvidia.com/compute/cuda/repos/ubuntu1804/x86_64  Packages [948 kB]\n",
            "Get:11 http://archive.ubuntu.com/ubuntu bionic-backports InRelease [83.3 kB]\n",
            "Get:12 http://security.ubuntu.com/ubuntu bionic-security/universe amd64 Packages [1,546 kB]\n",
            "Hit:14 http://ppa.launchpad.net/deadsnakes/ppa/ubuntu bionic InRelease\n",
            "Get:15 http://archive.ubuntu.com/ubuntu bionic-updates/universe amd64 Packages [2,324 kB]\n",
            "Get:16 http://ppa.launchpad.net/graphics-drivers/ppa/ubuntu bionic InRelease [21.3 kB]\n",
            "Get:17 http://security.ubuntu.com/ubuntu bionic-security/restricted amd64 Packages [1,163 kB]\n",
            "Get:18 http://security.ubuntu.com/ubuntu bionic-security/main amd64 Packages [2,992 kB]\n",
            "Get:19 http://ppa.launchpad.net/c2d4u.team/c2d4u4.0+/ubuntu bionic/main Sources [2,163 kB]\n",
            "Get:20 http://archive.ubuntu.com/ubuntu bionic-updates/restricted amd64 Packages [1,204 kB]\n",
            "Get:21 http://archive.ubuntu.com/ubuntu bionic-updates/main amd64 Packages [3,425 kB]\n",
            "Get:22 http://ppa.launchpad.net/c2d4u.team/c2d4u4.0+/ubuntu bionic/main amd64 Packages [1,108 kB]\n",
            "Get:23 http://ppa.launchpad.net/graphics-drivers/ppa/ubuntu bionic/main amd64 Packages [48.3 kB]\n",
            "Fetched 17.2 MB in 6s (2,993 kB/s)\n",
            "Reading package lists... Done\n",
            "update-alternatives: using /usr/lib/jvm/java-8-openjdk-amd64/jre/bin/java to provide /usr/bin/java (java) in manual mode\n",
            "openjdk version \"1.8.0_342\"\n",
            "OpenJDK Runtime Environment (build 1.8.0_342-8u342-b07-0ubuntu1~18.04-b07)\n",
            "OpenJDK 64-Bit Server VM (build 25.342-b07, mixed mode)\n",
            "Looking in indexes: https://pypi.org/simple, https://us-python.pkg.dev/colab-wheels/public/simple/\n",
            "Collecting pyspark\n",
            "  Downloading pyspark-3.3.0.tar.gz (281.3 MB)\n",
            "\u001b[K     |████████████████████████████████| 281.3 MB 53 kB/s \n",
            "\u001b[?25hCollecting py4j==0.10.9.5\n",
            "  Downloading py4j-0.10.9.5-py2.py3-none-any.whl (199 kB)\n",
            "\u001b[K     |████████████████████████████████| 199 kB 66.1 MB/s \n",
            "\u001b[?25hBuilding wheels for collected packages: pyspark\n",
            "  Building wheel for pyspark (setup.py) ... \u001b[?25l\u001b[?25hdone\n",
            "  Created wheel for pyspark: filename=pyspark-3.3.0-py2.py3-none-any.whl size=281764026 sha256=b1d47d8bfa169293aa6abb28185548ba36ef94a4ece5f83e811ffdd622cfc894\n",
            "  Stored in directory: /root/.cache/pip/wheels/7a/8e/1b/f73a52650d2e5f337708d9f6a1750d451a7349a867f928b885\n",
            "Successfully built pyspark\n",
            "Installing collected packages: py4j, pyspark\n",
            "Successfully installed py4j-0.10.9.5 pyspark-3.3.0\n",
            "Looking in indexes: https://pypi.org/simple, https://us-python.pkg.dev/colab-wheels/public/simple/\n",
            "Collecting construct\n",
            "  Downloading construct-2.10.68.tar.gz (57 kB)\n",
            "\u001b[K     |████████████████████████████████| 57 kB 4.9 MB/s \n",
            "\u001b[?25hBuilding wheels for collected packages: construct\n",
            "  Building wheel for construct (setup.py) ... \u001b[?25l\u001b[?25hdone\n",
            "  Created wheel for construct: filename=construct-2.10.68-py3-none-any.whl size=59227 sha256=175322ca40718ddda84577c4085e597c21eb46ff78852aa8255f0bb5df29fe43\n",
            "  Stored in directory: /root/.cache/pip/wheels/32/b9/a0/30cd99f34b5d16190994a5a110d32c44712dd33507e7de2fad\n",
            "Successfully built construct\n",
            "Installing collected packages: construct\n",
            "Successfully installed construct-2.10.68\n"
          ]
        }
      ],
      "source": [
        "!apt-get update\n",
        "!apt-get install openjdk-8-jdk-headless -qq > /dev/null\n",
        "import os\n",
        "os.environ[\"JAVA_HOME\"] = \"/usr/lib/jvm/java-8-openjdk-amd64\"\n",
        "!update-alternatives --set java /usr/lib/jvm/java-8-openjdk-amd64/jre/bin/java\n",
        "!java -version\n",
        "!pip install pyspark\n",
        "!pip install construct"
      ]
    },
    {
      "cell_type": "code",
      "source": [
        "      #ZZZZZZZZZZZZZZZZZZZZZZZZZZZZZZZZZZZZZZZZZZZzZ1`1"
      ],
      "metadata": {
        "id": "clYYe3QlBE8f"
      },
      "execution_count": null,
      "outputs": []
    },
    {
      "cell_type": "code",
      "source": [
        "!7z x DummyGeometryforPHDwork.7z"
      ],
      "metadata": {
        "id": "bgUAioqwLJKB",
        "colab": {
          "base_uri": "https://localhost:8080/"
        },
        "outputId": "323b5cbb-3159-4be3-b783-cbd2936b75a3"
      },
      "execution_count": null,
      "outputs": [
        {
          "output_type": "stream",
          "name": "stdout",
          "text": [
            "\n",
            "7-Zip [64] 16.02 : Copyright (c) 1999-2016 Igor Pavlov : 2016-05-21\n",
            "p7zip Version 16.02 (locale=en_US.UTF-8,Utf16=on,HugeFiles=on,64 bits,2 CPUs Intel(R) Xeon(R) CPU @ 2.00GHz (50653),ASM,AES-NI)\n",
            "\n",
            "Scanning the drive for archives:\n",
            "  0M Scan\b\b\b\b\b\b\b\b\b         \b\b\b\b\b\b\b\b\b1 file, 30742711 bytes (30 MiB)\n",
            "\n",
            "Extracting archive: DummyGeometryforPHDwork.7z\n",
            "--\n",
            "Path = DummyGeometryforPHDwork.7z\n",
            "Type = 7z\n",
            "Physical Size = 30742711\n",
            "Headers Size = 1602\n",
            "Method = LZMA2:24\n",
            "Solid = +\n",
            "Blocks = 2\n",
            "\n",
            "  0%\b\b\b\b    \b\b\b\b  9% 26 - DummyGeometry/mach0.200_aoa10. . 00_aoa10.00_beta0.00-POINT.dat\b\b\b\b\b\b\b\b\b\b\b\b\b\b\b\b\b\b\b\b\b\b\b\b\b\b\b\b\b\b\b\b\b\b\b\b\b\b\b\b\b\b\b\b\b\b\b\b\b\b\b\b\b\b\b\b\b\b\b\b\b\b\b\b\b\b\b\b\b\b\b\b\b                                                                         \b\b\b\b\b\b\b\b\b\b\b\b\b\b\b\b\b\b\b\b\b\b\b\b\b\b\b\b\b\b\b\b\b\b\b\b\b\b\b\b\b\b\b\b\b\b\b\b\b\b\b\b\b\b\b\b\b\b\b\b\b\b\b\b\b\b\b\b\b\b\b\b\b 20% 35 - DummyGeometry/mach0.200_aoa6.00 . _mach0.200_aoa6.00_beta0.00.plt\b\b\b\b\b\b\b\b\b\b\b\b\b\b\b\b\b\b\b\b\b\b\b\b\b\b\b\b\b\b\b\b\b\b\b\b\b\b\b\b\b\b\b\b\b\b\b\b\b\b\b\b\b\b\b\b\b\b\b\b\b\b\b\b\b\b\b\b\b\b\b\b\b\b\b                                                                           \b\b\b\b\b\b\b\b\b\b\b\b\b\b\b\b\b\b\b\b\b\b\b\b\b\b\b\b\b\b\b\b\b\b\b\b\b\b\b\b\b\b\b\b\b\b\b\b\b\b\b\b\b\b\b\b\b\b\b\b\b\b\b\b\b\b\b\b\b\b\b\b\b\b\b 30% 43 - DummyGeometry/mach0.600_aoa0.00 . _mach0.600_aoa0.00_beta0.00.plt\b\b\b\b\b\b\b\b\b\b\b\b\b\b\b\b\b\b\b\b\b\b\b\b\b\b\b\b\b\b\b\b\b\b\b\b\b\b\b\b\b\b\b\b\b\b\b\b\b\b\b\b\b\b\b\b\b\b\b\b\b\b\b\b\b\b\b\b\b\b\b\b\b\b\b                                                                           \b\b\b\b\b\b\b\b\b\b\b\b\b\b\b\b\b\b\b\b\b\b\b\b\b\b\b\b\b\b\b\b\b\b\b\b\b\b\b\b\b\b\b\b\b\b\b\b\b\b\b\b\b\b\b\b\b\b\b\b\b\b\b\b\b\b\b\b\b\b\b\b\b\b\b 41% 52 - DummyGeometry/mach0.600_aoa6.00_b . esults_mach0.600_aoa6.00_beta0.00\b\b\b\b\b\b\b\b\b\b\b\b\b\b\b\b\b\b\b\b\b\b\b\b\b\b\b\b\b\b\b\b\b\b\b\b\b\b\b\b\b\b\b\b\b\b\b\b\b\b\b\b\b\b\b\b\b\b\b\b\b\b\b\b\b\b\b\b\b\b\b\b\b\b\b\b\b\b\b                                                                               \b\b\b\b\b\b\b\b\b\b\b\b\b\b\b\b\b\b\b\b\b\b\b\b\b\b\b\b\b\b\b\b\b\b\b\b\b\b\b\b\b\b\b\b\b\b\b\b\b\b\b\b\b\b\b\b\b\b\b\b\b\b\b\b\b\b\b\b\b\b\b\b\b\b\b\b\b\b\b 50% 60 - DummyGeometry/mach0.800_aoa0.00_b . esults_mach0.800_aoa0.00_beta0.00\b\b\b\b\b\b\b\b\b\b\b\b\b\b\b\b\b\b\b\b\b\b\b\b\b\b\b\b\b\b\b\b\b\b\b\b\b\b\b\b\b\b\b\b\b\b\b\b\b\b\b\b\b\b\b\b\b\b\b\b\b\b\b\b\b\b\b\b\b\b\b\b\b\b\b\b\b\b\b                                                                               \b\b\b\b\b\b\b\b\b\b\b\b\b\b\b\b\b\b\b\b\b\b\b\b\b\b\b\b\b\b\b\b\b\b\b\b\b\b\b\b\b\b\b\b\b\b\b\b\b\b\b\b\b\b\b\b\b\b\b\b\b\b\b\b\b\b\b\b\b\b\b\b\b\b\b\b\b\b\b 61% 67 - DummyGeometry/mach0.800_aoa10.0 . _mach0.800_aoa10.00_beta0.00.plt\b\b\b\b\b\b\b\b\b\b\b\b\b\b\b\b\b\b\b\b\b\b\b\b\b\b\b\b\b\b\b\b\b\b\b\b\b\b\b\b\b\b\b\b\b\b\b\b\b\b\b\b\b\b\b\b\b\b\b\b\b\b\b\b\b\b\b\b\b\b\b\b\b\b\b\b                                                                            \b\b\b\b\b\b\b\b\b\b\b\b\b\b\b\b\b\b\b\b\b\b\b\b\b\b\b\b\b\b\b\b\b\b\b\b\b\b\b\b\b\b\b\b\b\b\b\b\b\b\b\b\b\b\b\b\b\b\b\b\b\b\b\b\b\b\b\b\b\b\b\b\b\b\b\b 71% 77 - DummyGeometry/mach0.800_aoa8.00_b . h0.800_aoa8.00_beta0.00-BLOCK.dat\b\b\b\b\b\b\b\b\b\b\b\b\b\b\b\b\b\b\b\b\b\b\b\b\b\b\b\b\b\b\b\b\b\b\b\b\b\b\b\b\b\b\b\b\b\b\b\b\b\b\b\b\b\b\b\b\b\b\b\b\b\b\b\b\b\b\b\b\b\b\b\b\b\b\b\b\b\b\b                                                                               \b\b\b\b\b\b\b\b\b\b\b\b\b\b\b\b\b\b\b\b\b\b\b\b\b\b\b\b\b\b\b\b\b\b\b\b\b\b\b\b\b\b\b\b\b\b\b\b\b\b\b\b\b\b\b\b\b\b\b\b\b\b\b\b\b\b\b\b\b\b\b\b\b\b\b\b\b\b\b 82% 83 - DummyGeometry/mach1.000_aoa0.00 . _mach1.000_aoa0.00_beta0.00.plt\b\b\b\b\b\b\b\b\b\b\b\b\b\b\b\b\b\b\b\b\b\b\b\b\b\b\b\b\b\b\b\b\b\b\b\b\b\b\b\b\b\b\b\b\b\b\b\b\b\b\b\b\b\b\b\b\b\b\b\b\b\b\b\b\b\b\b\b\b\b\b\b\b\b\b                                                                           \b\b\b\b\b\b\b\b\b\b\b\b\b\b\b\b\b\b\b\b\b\b\b\b\b\b\b\b\b\b\b\b\b\b\b\b\b\b\b\b\b\b\b\b\b\b\b\b\b\b\b\b\b\b\b\b\b\b\b\b\b\b\b\b\b\b\b\b\b\b\b\b\b\b\b 89% 91 - DummyGeometry/mach1.000_aoa4.00 . _mach1.000_aoa4.00_beta0.00.plt\b\b\b\b\b\b\b\b\b\b\b\b\b\b\b\b\b\b\b\b\b\b\b\b\b\b\b\b\b\b\b\b\b\b\b\b\b\b\b\b\b\b\b\b\b\b\b\b\b\b\b\b\b\b\b\b\b\b\b\b\b\b\b\b\b\b\b\b\b\b\b\b\b\b\b                                                                           \b\b\b\b\b\b\b\b\b\b\b\b\b\b\b\b\b\b\b\b\b\b\b\b\b\b\b\b\b\b\b\b\b\b\b\b\b\b\b\b\b\b\b\b\b\b\b\b\b\b\b\b\b\b\b\b\b\b\b\b\b\b\b\b\b\b\b\b\b\b\b\b\b\b\b 99% 100 - DummyGeometry/macro.mcr\b\b\b\b\b\b\b\b\b\b\b\b\b\b\b\b\b\b\b\b\b\b\b\b\b\b\b\b\b\b\b\b\b\b                                  \b\b\b\b\b\b\b\b\b\b\b\b\b\b\b\b\b\b\b\b\b\b\b\b\b\b\b\b\b\b\b\b\b\bEverything is Ok\n",
            "\n",
            "Folders: 21\n",
            "Files: 82\n",
            "Size:       147571907\n",
            "Compressed: 30742711\n"
          ]
        }
      ]
    },
    {
      "cell_type": "code",
      "source": [
        "import os\n",
        "file_paths = [] \n",
        "for root, dirs, files in os.walk(\"./DummyGeometry\"):\n",
        "    for file in files:\n",
        "        if file.endswith(\".plt\"):\n",
        "             file_paths.append(os.path.join(root, file))\n",
        "print(file_paths)"
      ],
      "metadata": {
        "colab": {
          "base_uri": "https://localhost:8080/"
        },
        "id": "h_f10FkTHl9P",
        "outputId": "094e50db-0726-45a0-e13b-d5b87b9bfbaa"
      },
      "execution_count": null,
      "outputs": [
        {
          "output_type": "stream",
          "name": "stdout",
          "text": [
            "['./DummyGeometry/mach1.000_aoa4.00_beta0.00/Tecplot_mach1.000_aoa4.00_beta0.00.plt', './DummyGeometry/mach0.200_aoa4.00_beta0.00/Tecplot_mach0.200_aoa4.00_beta0.00.plt', './DummyGeometry/mach1.000_aoa10.00_beta0.00/Tecplot_mach1.000_aoa10.00_beta0.00.plt', './DummyGeometry/mach0.800_aoa8.00_beta0.00/Tecplot_mach0.800_aoa8.00_beta0.00.plt', './DummyGeometry/mach1.000_aoa0.00_beta0.00/Tecplot_mach1.000_aoa0.00_beta0.00.plt', './DummyGeometry/mach0.600_aoa10.00_beta0.00/Tecplot_mach0.600_aoa10.00_beta0.00.plt', './DummyGeometry/mach0.600_aoa8.00_beta0.00/Tecplot_mach0.600_aoa8.00_beta0.00.plt', './DummyGeometry/mach0.800_aoa10.00_beta0.00/Tecplot_mach0.800_aoa10.00_beta0.00.plt', './DummyGeometry/mach0.200_aoa0.00_beta0.00/Tecplot_mach0.200_aoa0.00_beta0.00.plt', './DummyGeometry/mach0.200_aoa10.00_beta0.00/Tecplot_mach0.200_aoa10.00_beta0.00.plt', './DummyGeometry/mach0.200_aoa6.00_beta0.00/Tecplot_mach0.200_aoa6.00_beta0.00.plt', './DummyGeometry/mach0.200_aoa8.00_beta0.00/Tecplot_mach0.200_aoa8.00_beta0.00.plt', './DummyGeometry/mach0.800_aoa4.00_beta0.00/Tecplot_mach0.800_aoa4.00_beta0.00.plt', './DummyGeometry/mach0.600_aoa6.00_beta0.00/Tecplot_mach0.600_aoa6.00_beta0.00.plt', './DummyGeometry/mach1.000_aoa6.00_beta0.00/Tecplot_mach1.000_aoa6.00_beta0.00.plt', './DummyGeometry/mach1.000_aoa8.00_beta0.00/Tecplot_mach1.000_aoa8.00_beta0.00.plt', './DummyGeometry/mach0.600_aoa0.00_beta0.00/Tecplot_mach0.600_aoa0.00_beta0.00.plt', './DummyGeometry/mach0.800_aoa6.00_beta0.00/Tecplot_mach0.800_aoa6.00_beta0.00.plt', './DummyGeometry/mach0.800_aoa0.00_beta0.00/Tecplot_mach0.800_aoa0.00_beta0.00.plt', './DummyGeometry/mach0.600_aoa4.00_beta0.00/Tecplot_mach0.600_aoa4.00_beta0.00.plt']\n"
          ]
        }
      ]
    },
    {
      "cell_type": "code",
      "source": [],
      "metadata": {
        "id": "RKnq4rv4QXq1"
      },
      "execution_count": null,
      "outputs": []
    },
    {
      "cell_type": "code",
      "source": [
        "# Spark Session, Pipeline, Functions, and Metrics\n",
        "from pyspark import SparkContext, SparkConf\n",
        "from pyspark.sql import SQLContext, SparkSession\n",
        "from pyspark.ml.feature import OneHotEncoder, StringIndexer, StandardScaler, VectorAssembler\n",
        "from pyspark.ml import Pipeline\n",
        "from pyspark.sql.functions import rand\n",
        "from pyspark.ml.stat import Correlation\n",
        "from pyspark.ml.linalg import Vector\n",
        "from pyspark.ml.regression import GBTRegressor\n",
        "from pyspark.ml.feature import VectorIndexer\n",
        "from pyspark.ml.evaluation import RegressionEvaluator"
      ],
      "metadata": {
        "id": "MrHzAal5TtHs"
      },
      "execution_count": null,
      "outputs": []
    },
    {
      "cell_type": "code",
      "source": [
        "spark = SparkSession \\\n",
        "    .builder \\\n",
        "    .appName(\"Python Spark SQL basic example\") \\\n",
        "    .getOrCreate()"
      ],
      "metadata": {
        "id": "LzKoQ8D7RS7d"
      },
      "execution_count": null,
      "outputs": []
    },
    {
      "cell_type": "code",
      "source": [
        "\n",
        "import re\n",
        "import numpy as np\n",
        "import pltreader as plt\n",
        "\n",
        "dataset = []\n",
        "for item in file_paths:\n",
        "  file_content={}\n",
        "  pat = re.compile(\"mach(.*)_aoa(.*)_beta(.*)/\")\n",
        "  obj = pat.search(item)\n",
        "  mach = float(obj.group(1))\n",
        "  aoa = float(obj.group(2))\n",
        "  beta = float(obj.group(3))\n",
        "  with open( item, 'rb') as f:\n",
        "    bytelist = f.read()\n",
        "  header = plt.read_header(bytelist)\n",
        "  data = plt.read_data(bytelist,header)\n",
        "  for zone_id in range (len(data['Zones'])):\n",
        "    zone_shape = data['Zones'][zone_id]['Pressure'].shape\n",
        "    data['Zones'][zone_id]['mach']=mach*np.ones(zone_shape, dtype = 'float32')\n",
        "    data['Zones'][zone_id]['aoa']=aoa*np.ones(zone_shape, dtype = 'float32')\n",
        "    data['Zones'][zone_id]['beta']=beta*np.ones(zone_shape, dtype = 'float32')\n",
        "\n",
        "\n",
        "  file_content['data'] = data\n",
        "  dataset.append(file_content)"
      ],
      "metadata": {
        "id": "QX6xgaBlT4WX"
      },
      "execution_count": null,
      "outputs": []
    },
    {
      "cell_type": "code",
      "source": [
        "cols=['mach','aoa','beta']+header['VarNames']\n",
        "m=[]\n",
        "for fid in range(len(file_paths)):\n",
        "  t=[]\n",
        "  for zid in range (len(data['Zones'])):\n",
        "    for col in cols:\n",
        "      t.append(dataset[fid]['data']['Zones'][zid][col])\n",
        "  m.append(t)\n",
        "s=np.hstack(m).transpose()"
      ],
      "metadata": {
        "id": "0sap4Tjc74u6",
        "colab": {
          "base_uri": "https://localhost:8080/"
        },
        "outputId": "9246237c-13f0-4df2-a00c-cadb74b282ea"
      },
      "execution_count": null,
      "outputs": [
        {
          "output_type": "stream",
          "name": "stderr",
          "text": [
            "/usr/local/lib/python3.7/dist-packages/numpy/core/shape_base.py:65: VisibleDeprecationWarning: Creating an ndarray from ragged nested sequences (which is a list-or-tuple of lists-or-tuples-or ndarrays with different lengths or shapes) is deprecated. If you meant to do this, you must specify 'dtype=object' when creating the ndarray.\n",
            "  ary = asanyarray(ary)\n"
          ]
        }
      ]
    },
    {
      "cell_type": "code",
      "source": [
        "cols=['mach','aoa','beta']+header['VarNames']\n",
        "\n",
        "s={}\n",
        "for col in cols:\n",
        "  t=[]\n",
        "  for fid in range(len(file_paths)):\n",
        "    for zid in range(len(data['Zones'])):\n",
        "      t.append(dataset[fid]['data']['Zones'][zid][col])\n",
        "  s[col] = np.hstack(t)\n"
      ],
      "metadata": {
        "id": "enj2GS4jlz0v"
      },
      "execution_count": null,
      "outputs": []
    },
    {
      "cell_type": "code",
      "source": [
        "import pandas as pd\n",
        "pandasDF=pd.DataFrame.from_dict(s)\n",
        "df=spark.createDataFrame(pandasDF) \n"
      ],
      "metadata": {
        "id": "EHUOKIgMtvnq"
      },
      "execution_count": null,
      "outputs": []
    },
    {
      "cell_type": "code",
      "source": [
        "# dataset[file_id]['data']['Zones'][zone_id][var_name])"
      ],
      "metadata": {
        "id": "WG6ji78xUHz_"
      },
      "execution_count": null,
      "outputs": []
    },
    {
      "cell_type": "code",
      "source": [
        "df.limit(15).toPandas()"
      ],
      "metadata": {
        "id": "fOXJiSCVDCKL",
        "colab": {
          "base_uri": "https://localhost:8080/",
          "height": 581
        },
        "outputId": "1337b58c-083d-496c-97d8-97178ac95e9c"
      },
      "execution_count": null,
      "outputs": [
        {
          "output_type": "execute_result",
          "data": {
            "text/plain": [
              "    mach  aoa  beta  CoordinateX  CoordinateY  CoordinateZ  \\\n",
              "0    1.0  4.0   0.0    11.741610    -1.658558     0.277781   \n",
              "1    1.0  4.0   0.0    11.738341    -1.697367     0.270796   \n",
              "2    1.0  4.0   0.0    11.705114    -1.663811     0.269339   \n",
              "3    1.0  4.0   0.0    11.774469    -1.584260     0.253532   \n",
              "4    1.0  4.0   0.0    11.839085    -1.553269     0.251952   \n",
              "5    1.0  4.0   0.0    11.764987    -1.520234     0.249566   \n",
              "6    1.0  4.0   0.0    11.745173    -1.656447     0.262674   \n",
              "7    1.0  4.0   0.0    11.790966    -1.668062     0.260443   \n",
              "8    1.0  4.0   0.0    11.768639    -1.693918     0.265840   \n",
              "9    1.0  4.0   0.0    11.844545    -1.690250     0.259992   \n",
              "10   1.0  4.0   0.0    11.801685    -1.713485     0.265280   \n",
              "11   1.0  4.0   0.0    11.816333    -1.626253     0.255744   \n",
              "12   1.0  4.0   0.0    11.880736    -1.632332     0.255966   \n",
              "13   1.0  4.0   0.0    11.765932    -1.685940     0.278404   \n",
              "14   1.0  4.0   0.0    11.806889    -1.453409     0.247786   \n",
              "\n",
              "    X Component Wall Shear      Pressure  Pressure Coefficient  \\\n",
              "0               247.621735   8324.561523              0.117451   \n",
              "1               289.505920   2006.861694              0.028315   \n",
              "2               276.453400   4227.937500              0.059652   \n",
              "3               196.213272 -27076.242188             -0.382018   \n",
              "4               190.492523 -29019.902344             -0.409441   \n",
              "5               196.534409 -28161.087891             -0.397324   \n",
              "6               243.907288 -20430.775391             -0.288257   \n",
              "7               216.297409 -24295.388672             -0.342783   \n",
              "8               251.172501 -19591.843750             -0.276421   \n",
              "9               214.832123 -25959.818359             -0.366266   \n",
              "10              242.287476 -19915.587891             -0.280989   \n",
              "11              193.887787 -27565.074219             -0.388915   \n",
              "12              195.490921 -28980.582031             -0.408886   \n",
              "13              257.093048   7307.660156              0.103104   \n",
              "14              185.132324 -28167.910156             -0.397420   \n",
              "\n",
              "    Y Component Wall Shear  Z Component Wall Shear  \n",
              "0                -7.759322               44.087044  \n",
              "1               -21.355097                6.275712  \n",
              "2               -25.645638                6.516389  \n",
              "3                17.835201               -6.101009  \n",
              "4                17.709211                2.667213  \n",
              "5                18.178757               -1.299893  \n",
              "6                 6.527334              -27.109739  \n",
              "7                13.328602              -15.915632  \n",
              "8                 4.991435              -31.002720  \n",
              "9                19.990547              -10.850661  \n",
              "10               13.729948              -26.468901  \n",
              "11               18.467278               -5.329651  \n",
              "12               20.824198                0.933381  \n",
              "13              -14.654729               44.200630  \n",
              "14               12.516327                6.029349  "
            ],
            "text/html": [
              "\n",
              "  <div id=\"df-fe0ea83f-3c21-4243-9139-ecb46630137c\">\n",
              "    <div class=\"colab-df-container\">\n",
              "      <div>\n",
              "<style scoped>\n",
              "    .dataframe tbody tr th:only-of-type {\n",
              "        vertical-align: middle;\n",
              "    }\n",
              "\n",
              "    .dataframe tbody tr th {\n",
              "        vertical-align: top;\n",
              "    }\n",
              "\n",
              "    .dataframe thead th {\n",
              "        text-align: right;\n",
              "    }\n",
              "</style>\n",
              "<table border=\"1\" class=\"dataframe\">\n",
              "  <thead>\n",
              "    <tr style=\"text-align: right;\">\n",
              "      <th></th>\n",
              "      <th>mach</th>\n",
              "      <th>aoa</th>\n",
              "      <th>beta</th>\n",
              "      <th>CoordinateX</th>\n",
              "      <th>CoordinateY</th>\n",
              "      <th>CoordinateZ</th>\n",
              "      <th>X Component Wall Shear</th>\n",
              "      <th>Pressure</th>\n",
              "      <th>Pressure Coefficient</th>\n",
              "      <th>Y Component Wall Shear</th>\n",
              "      <th>Z Component Wall Shear</th>\n",
              "    </tr>\n",
              "  </thead>\n",
              "  <tbody>\n",
              "    <tr>\n",
              "      <th>0</th>\n",
              "      <td>1.0</td>\n",
              "      <td>4.0</td>\n",
              "      <td>0.0</td>\n",
              "      <td>11.741610</td>\n",
              "      <td>-1.658558</td>\n",
              "      <td>0.277781</td>\n",
              "      <td>247.621735</td>\n",
              "      <td>8324.561523</td>\n",
              "      <td>0.117451</td>\n",
              "      <td>-7.759322</td>\n",
              "      <td>44.087044</td>\n",
              "    </tr>\n",
              "    <tr>\n",
              "      <th>1</th>\n",
              "      <td>1.0</td>\n",
              "      <td>4.0</td>\n",
              "      <td>0.0</td>\n",
              "      <td>11.738341</td>\n",
              "      <td>-1.697367</td>\n",
              "      <td>0.270796</td>\n",
              "      <td>289.505920</td>\n",
              "      <td>2006.861694</td>\n",
              "      <td>0.028315</td>\n",
              "      <td>-21.355097</td>\n",
              "      <td>6.275712</td>\n",
              "    </tr>\n",
              "    <tr>\n",
              "      <th>2</th>\n",
              "      <td>1.0</td>\n",
              "      <td>4.0</td>\n",
              "      <td>0.0</td>\n",
              "      <td>11.705114</td>\n",
              "      <td>-1.663811</td>\n",
              "      <td>0.269339</td>\n",
              "      <td>276.453400</td>\n",
              "      <td>4227.937500</td>\n",
              "      <td>0.059652</td>\n",
              "      <td>-25.645638</td>\n",
              "      <td>6.516389</td>\n",
              "    </tr>\n",
              "    <tr>\n",
              "      <th>3</th>\n",
              "      <td>1.0</td>\n",
              "      <td>4.0</td>\n",
              "      <td>0.0</td>\n",
              "      <td>11.774469</td>\n",
              "      <td>-1.584260</td>\n",
              "      <td>0.253532</td>\n",
              "      <td>196.213272</td>\n",
              "      <td>-27076.242188</td>\n",
              "      <td>-0.382018</td>\n",
              "      <td>17.835201</td>\n",
              "      <td>-6.101009</td>\n",
              "    </tr>\n",
              "    <tr>\n",
              "      <th>4</th>\n",
              "      <td>1.0</td>\n",
              "      <td>4.0</td>\n",
              "      <td>0.0</td>\n",
              "      <td>11.839085</td>\n",
              "      <td>-1.553269</td>\n",
              "      <td>0.251952</td>\n",
              "      <td>190.492523</td>\n",
              "      <td>-29019.902344</td>\n",
              "      <td>-0.409441</td>\n",
              "      <td>17.709211</td>\n",
              "      <td>2.667213</td>\n",
              "    </tr>\n",
              "    <tr>\n",
              "      <th>5</th>\n",
              "      <td>1.0</td>\n",
              "      <td>4.0</td>\n",
              "      <td>0.0</td>\n",
              "      <td>11.764987</td>\n",
              "      <td>-1.520234</td>\n",
              "      <td>0.249566</td>\n",
              "      <td>196.534409</td>\n",
              "      <td>-28161.087891</td>\n",
              "      <td>-0.397324</td>\n",
              "      <td>18.178757</td>\n",
              "      <td>-1.299893</td>\n",
              "    </tr>\n",
              "    <tr>\n",
              "      <th>6</th>\n",
              "      <td>1.0</td>\n",
              "      <td>4.0</td>\n",
              "      <td>0.0</td>\n",
              "      <td>11.745173</td>\n",
              "      <td>-1.656447</td>\n",
              "      <td>0.262674</td>\n",
              "      <td>243.907288</td>\n",
              "      <td>-20430.775391</td>\n",
              "      <td>-0.288257</td>\n",
              "      <td>6.527334</td>\n",
              "      <td>-27.109739</td>\n",
              "    </tr>\n",
              "    <tr>\n",
              "      <th>7</th>\n",
              "      <td>1.0</td>\n",
              "      <td>4.0</td>\n",
              "      <td>0.0</td>\n",
              "      <td>11.790966</td>\n",
              "      <td>-1.668062</td>\n",
              "      <td>0.260443</td>\n",
              "      <td>216.297409</td>\n",
              "      <td>-24295.388672</td>\n",
              "      <td>-0.342783</td>\n",
              "      <td>13.328602</td>\n",
              "      <td>-15.915632</td>\n",
              "    </tr>\n",
              "    <tr>\n",
              "      <th>8</th>\n",
              "      <td>1.0</td>\n",
              "      <td>4.0</td>\n",
              "      <td>0.0</td>\n",
              "      <td>11.768639</td>\n",
              "      <td>-1.693918</td>\n",
              "      <td>0.265840</td>\n",
              "      <td>251.172501</td>\n",
              "      <td>-19591.843750</td>\n",
              "      <td>-0.276421</td>\n",
              "      <td>4.991435</td>\n",
              "      <td>-31.002720</td>\n",
              "    </tr>\n",
              "    <tr>\n",
              "      <th>9</th>\n",
              "      <td>1.0</td>\n",
              "      <td>4.0</td>\n",
              "      <td>0.0</td>\n",
              "      <td>11.844545</td>\n",
              "      <td>-1.690250</td>\n",
              "      <td>0.259992</td>\n",
              "      <td>214.832123</td>\n",
              "      <td>-25959.818359</td>\n",
              "      <td>-0.366266</td>\n",
              "      <td>19.990547</td>\n",
              "      <td>-10.850661</td>\n",
              "    </tr>\n",
              "    <tr>\n",
              "      <th>10</th>\n",
              "      <td>1.0</td>\n",
              "      <td>4.0</td>\n",
              "      <td>0.0</td>\n",
              "      <td>11.801685</td>\n",
              "      <td>-1.713485</td>\n",
              "      <td>0.265280</td>\n",
              "      <td>242.287476</td>\n",
              "      <td>-19915.587891</td>\n",
              "      <td>-0.280989</td>\n",
              "      <td>13.729948</td>\n",
              "      <td>-26.468901</td>\n",
              "    </tr>\n",
              "    <tr>\n",
              "      <th>11</th>\n",
              "      <td>1.0</td>\n",
              "      <td>4.0</td>\n",
              "      <td>0.0</td>\n",
              "      <td>11.816333</td>\n",
              "      <td>-1.626253</td>\n",
              "      <td>0.255744</td>\n",
              "      <td>193.887787</td>\n",
              "      <td>-27565.074219</td>\n",
              "      <td>-0.388915</td>\n",
              "      <td>18.467278</td>\n",
              "      <td>-5.329651</td>\n",
              "    </tr>\n",
              "    <tr>\n",
              "      <th>12</th>\n",
              "      <td>1.0</td>\n",
              "      <td>4.0</td>\n",
              "      <td>0.0</td>\n",
              "      <td>11.880736</td>\n",
              "      <td>-1.632332</td>\n",
              "      <td>0.255966</td>\n",
              "      <td>195.490921</td>\n",
              "      <td>-28980.582031</td>\n",
              "      <td>-0.408886</td>\n",
              "      <td>20.824198</td>\n",
              "      <td>0.933381</td>\n",
              "    </tr>\n",
              "    <tr>\n",
              "      <th>13</th>\n",
              "      <td>1.0</td>\n",
              "      <td>4.0</td>\n",
              "      <td>0.0</td>\n",
              "      <td>11.765932</td>\n",
              "      <td>-1.685940</td>\n",
              "      <td>0.278404</td>\n",
              "      <td>257.093048</td>\n",
              "      <td>7307.660156</td>\n",
              "      <td>0.103104</td>\n",
              "      <td>-14.654729</td>\n",
              "      <td>44.200630</td>\n",
              "    </tr>\n",
              "    <tr>\n",
              "      <th>14</th>\n",
              "      <td>1.0</td>\n",
              "      <td>4.0</td>\n",
              "      <td>0.0</td>\n",
              "      <td>11.806889</td>\n",
              "      <td>-1.453409</td>\n",
              "      <td>0.247786</td>\n",
              "      <td>185.132324</td>\n",
              "      <td>-28167.910156</td>\n",
              "      <td>-0.397420</td>\n",
              "      <td>12.516327</td>\n",
              "      <td>6.029349</td>\n",
              "    </tr>\n",
              "  </tbody>\n",
              "</table>\n",
              "</div>\n",
              "      <button class=\"colab-df-convert\" onclick=\"convertToInteractive('df-fe0ea83f-3c21-4243-9139-ecb46630137c')\"\n",
              "              title=\"Convert this dataframe to an interactive table.\"\n",
              "              style=\"display:none;\">\n",
              "        \n",
              "  <svg xmlns=\"http://www.w3.org/2000/svg\" height=\"24px\"viewBox=\"0 0 24 24\"\n",
              "       width=\"24px\">\n",
              "    <path d=\"M0 0h24v24H0V0z\" fill=\"none\"/>\n",
              "    <path d=\"M18.56 5.44l.94 2.06.94-2.06 2.06-.94-2.06-.94-.94-2.06-.94 2.06-2.06.94zm-11 1L8.5 8.5l.94-2.06 2.06-.94-2.06-.94L8.5 2.5l-.94 2.06-2.06.94zm10 10l.94 2.06.94-2.06 2.06-.94-2.06-.94-.94-2.06-.94 2.06-2.06.94z\"/><path d=\"M17.41 7.96l-1.37-1.37c-.4-.4-.92-.59-1.43-.59-.52 0-1.04.2-1.43.59L10.3 9.45l-7.72 7.72c-.78.78-.78 2.05 0 2.83L4 21.41c.39.39.9.59 1.41.59.51 0 1.02-.2 1.41-.59l7.78-7.78 2.81-2.81c.8-.78.8-2.07 0-2.86zM5.41 20L4 18.59l7.72-7.72 1.47 1.35L5.41 20z\"/>\n",
              "  </svg>\n",
              "      </button>\n",
              "      \n",
              "  <style>\n",
              "    .colab-df-container {\n",
              "      display:flex;\n",
              "      flex-wrap:wrap;\n",
              "      gap: 12px;\n",
              "    }\n",
              "\n",
              "    .colab-df-convert {\n",
              "      background-color: #E8F0FE;\n",
              "      border: none;\n",
              "      border-radius: 50%;\n",
              "      cursor: pointer;\n",
              "      display: none;\n",
              "      fill: #1967D2;\n",
              "      height: 32px;\n",
              "      padding: 0 0 0 0;\n",
              "      width: 32px;\n",
              "    }\n",
              "\n",
              "    .colab-df-convert:hover {\n",
              "      background-color: #E2EBFA;\n",
              "      box-shadow: 0px 1px 2px rgba(60, 64, 67, 0.3), 0px 1px 3px 1px rgba(60, 64, 67, 0.15);\n",
              "      fill: #174EA6;\n",
              "    }\n",
              "\n",
              "    [theme=dark] .colab-df-convert {\n",
              "      background-color: #3B4455;\n",
              "      fill: #D2E3FC;\n",
              "    }\n",
              "\n",
              "    [theme=dark] .colab-df-convert:hover {\n",
              "      background-color: #434B5C;\n",
              "      box-shadow: 0px 1px 3px 1px rgba(0, 0, 0, 0.15);\n",
              "      filter: drop-shadow(0px 1px 2px rgba(0, 0, 0, 0.3));\n",
              "      fill: #FFFFFF;\n",
              "    }\n",
              "  </style>\n",
              "\n",
              "      <script>\n",
              "        const buttonEl =\n",
              "          document.querySelector('#df-fe0ea83f-3c21-4243-9139-ecb46630137c button.colab-df-convert');\n",
              "        buttonEl.style.display =\n",
              "          google.colab.kernel.accessAllowed ? 'block' : 'none';\n",
              "\n",
              "        async function convertToInteractive(key) {\n",
              "          const element = document.querySelector('#df-fe0ea83f-3c21-4243-9139-ecb46630137c');\n",
              "          const dataTable =\n",
              "            await google.colab.kernel.invokeFunction('convertToInteractive',\n",
              "                                                     [key], {});\n",
              "          if (!dataTable) return;\n",
              "\n",
              "          const docLinkHtml = 'Like what you see? Visit the ' +\n",
              "            '<a target=\"_blank\" href=https://colab.research.google.com/notebooks/data_table.ipynb>data table notebook</a>'\n",
              "            + ' to learn more about interactive tables.';\n",
              "          element.innerHTML = '';\n",
              "          dataTable['output_type'] = 'display_data';\n",
              "          await google.colab.output.renderOutput(dataTable, element);\n",
              "          const docLink = document.createElement('div');\n",
              "          docLink.innerHTML = docLinkHtml;\n",
              "          element.appendChild(docLink);\n",
              "        }\n",
              "      </script>\n",
              "    </div>\n",
              "  </div>\n",
              "  "
            ]
          },
          "metadata": {},
          "execution_count": 28
        }
      ]
    },
    {
      "cell_type": "code",
      "source": [
        "assembler= VectorAssembler(\n",
        "    inputCols=['mach','aoa','CoordinateX', 'CoordinateY','CoordinateZ' ],outputCol='features')\n",
        "\n",
        "\n",
        "output= assembler.transform(df)\n",
        "output.show"
      ],
      "metadata": {
        "id": "cDw-JOhsbYP1",
        "colab": {
          "base_uri": "https://localhost:8080/"
        },
        "outputId": "78377f07-ab99-4a4c-c99f-c19ee6625985"
      },
      "execution_count": null,
      "outputs": [
        {
          "output_type": "execute_result",
          "data": {
            "text/plain": [
              "<bound method DataFrame.show of DataFrame[mach: double, aoa: double, beta: double, CoordinateX: double, CoordinateY: double, CoordinateZ: double, X Component Wall Shear: double, Pressure: double, Pressure Coefficient: double, Y Component Wall Shear: double, Z Component Wall Shear: double, features: vector]>"
            ]
          },
          "metadata": {},
          "execution_count": 29
        }
      ]
    },
    {
      "cell_type": "code",
      "source": [
        "#final data consist of features and label which is medv.\n",
        "final_data=output.select('features','Pressure')\n",
        "#splitting data into train and test\n",
        "train_data,test_data=final_data.randomSplit([0.8,0.2])\n",
        "#creating an object of class LinearRegression\n",
        "#object takes features and label as input arguments\n",
        "#rf = GBTRegressor(featuresCol='features',labelCol='Pressure',maxiter=10)\n",
        "rf = GBTRegressor(featuresCol='features',labelCol='Pressure',maxIter=10)\n",
        "\n",
        "#lr=LinearRegression(featuresCol='features',labelCol='Pressure')"
      ],
      "metadata": {
        "id": "LPI-n112IfzI"
      },
      "execution_count": null,
      "outputs": []
    },
    {
      "cell_type": "code",
      "source": [
        "\n",
        "# Chain indexer and forest in a Pipeline\n",
        "pipeline = Pipeline(stages=[ rf])\n",
        "\n",
        "# Train model.  This also runs the indexer.\n",
        "model = pipeline.fit(train_data)\n",
        "\n",
        "# Make predictions.\n",
        "predictions = model.transform(test_data)\n",
        "\n",
        "# Select example rows to display.\n",
        "predictions.select(\"prediction\", \"Pressure\", \"features\").show(5)\n",
        "\n",
        "# Select (prediction, true label) and compute test error\n",
        "evaluator = RegressionEvaluator(\n",
        "    labelCol=\"Pressure\", predictionCol=\"prediction\", metricName=\"rmse\")\n",
        "rmse = evaluator.evaluate(predictions)\n",
        "print(\"Root Mean Squared Error (RMSE) on test data = %g\" % rmse)\n",
        "\n",
        "rfModel = model.stages[0]\n",
        "print(rfModel)  # summary only"
      ],
      "metadata": {
        "id": "yIFVsoklPn9y",
        "colab": {
          "base_uri": "https://localhost:8080/"
        },
        "outputId": "7347c2a9-1d90-459c-ab1d-09e9905e5b42"
      },
      "execution_count": null,
      "outputs": [
        {
          "output_type": "stream",
          "name": "stdout",
          "text": [
            "+------------------+------------------+--------------------+\n",
            "|        prediction|          Pressure|            features|\n",
            "+------------------+------------------+--------------------+\n",
            "| 12041.75208617832|   22354.822265625|       (5,[0],[1.0])|\n",
            "| 908.5088334256759| 690.4427490234375|[0.20000000298023...|\n",
            "| 908.5088334256759| 646.4136962890625|[0.20000000298023...|\n",
            "|30.287954763399497|415.99700927734375|[0.20000000298023...|\n",
            "| 745.2516370578298| 488.6413269042969|[0.20000000298023...|\n",
            "+------------------+------------------+--------------------+\n",
            "only showing top 5 rows\n",
            "\n",
            "Root Mean Squared Error (RMSE) on test data = 8997.09\n",
            "GBTRegressionModel: uid=GBTRegressor_0ec7ebf71153, numTrees=10, numFeatures=5\n"
          ]
        }
      ]
    }
  ]
}