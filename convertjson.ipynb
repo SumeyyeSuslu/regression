{
  "nbformat": 4,
  "nbformat_minor": 0,
  "metadata": {
    "colab": {
      "provenance": [],
      "authorship_tag": "ABX9TyPtrtb9k+IiGt2rPLTYDIgj",
      "include_colab_link": true
    },
    "kernelspec": {
      "name": "python3",
      "display_name": "Python 3"
    },
    "language_info": {
      "name": "python"
    },
    "accelerator": "GPU"
  },
  "cells": [
    {
      "cell_type": "markdown",
      "metadata": {
        "id": "view-in-github",
        "colab_type": "text"
      },
      "source": [
        "<a href=\"https://colab.research.google.com/github/SumeyyeSuslu/regression/blob/main/convertjson.ipynb\" target=\"_parent\"><img src=\"https://colab.research.google.com/assets/colab-badge.svg\" alt=\"Open In Colab\"/></a>"
      ]
    },
    {
      "cell_type": "markdown",
      "source": [
        "Bu örnekte klasördeki bütün .plt dosyalarını birleştirerek tek bir DataFrame elde etme ve bunu json formatında kaydetme amaçlanmıştır. Daha önce plt dosyalarını binary olarak okuyarak içindeki verileri çıkartan pltreader.py dosyası construct library sini kullandığı için construct da kurulmuştur."
      ],
      "metadata": {
        "id": "dEheqWlSJpMD"
      }
    },
    {
      "cell_type": "code",
      "execution_count": null,
      "metadata": {
        "colab": {
          "base_uri": "https://localhost:8080/"
        },
        "id": "sQJmzzC3_PPv",
        "outputId": "4ceb2689-acde-4e5c-f6be-d5719d8a27bf"
      },
      "outputs": [
        {
          "output_type": "stream",
          "name": "stdout",
          "text": [
            "Looking in indexes: https://pypi.org/simple, https://us-python.pkg.dev/colab-wheels/public/simple/\n",
            "Collecting construct\n",
            "  Downloading construct-2.10.68.tar.gz (57 kB)\n",
            "\u001b[2K     \u001b[90m━━━━━━━━━━━━━━━━━━━━━━━━━━━━━━━━━━━━━━━━\u001b[0m \u001b[32m57.9/57.9 KB\u001b[0m \u001b[31m3.5 MB/s\u001b[0m eta \u001b[36m0:00:00\u001b[0m\n",
            "\u001b[?25h  Preparing metadata (setup.py) ... \u001b[?25l\u001b[?25hdone\n",
            "Building wheels for collected packages: construct\n",
            "  Building wheel for construct (setup.py) ... \u001b[?25l\u001b[?25hdone\n",
            "  Created wheel for construct: filename=construct-2.10.68-py3-none-any.whl size=59226 sha256=f4d4bd10450780c77dbaffa587fa0617ad9c4f0dd1a091772d85035826b5e1c3\n",
            "  Stored in directory: /root/.cache/pip/wheels/cf/58/27/8a7c57f4e85722ec338b53cef911ca3ebfe5e9f56c750532a2\n",
            "Successfully built construct\n",
            "Installing collected packages: construct\n",
            "Successfully installed construct-2.10.68\n"
          ]
        }
      ],
      "source": [
        "!pip install construct"
      ]
    },
    {
      "cell_type": "code",
      "source": [
        "      #ZZZZZZZZZZZZZZZZZZZZZZZZZZZZZZZZZZZZZZZZZZZzZ1`1"
      ],
      "metadata": {
        "id": "clYYe3QlBE8f"
      },
      "execution_count": null,
      "outputs": []
    },
    {
      "cell_type": "markdown",
      "source": [
        "Verilerin zipten çıkarılması"
      ],
      "metadata": {
        "id": "H5RYcC3MmGyA"
      }
    },
    {
      "cell_type": "code",
      "source": [
        "!7z x DummyGeometryforPHDwork.7z"
      ],
      "metadata": {
        "id": "bgUAioqwLJKB",
        "colab": {
          "base_uri": "https://localhost:8080/"
        },
        "outputId": "5b02af71-c18e-470d-b3a7-21eb054bc7fc"
      },
      "execution_count": null,
      "outputs": [
        {
          "output_type": "stream",
          "name": "stdout",
          "text": [
            "\n",
            "7-Zip [64] 16.02 : Copyright (c) 1999-2016 Igor Pavlov : 2016-05-21\n",
            "p7zip Version 16.02 (locale=en_US.UTF-8,Utf16=on,HugeFiles=on,64 bits,2 CPUs Intel(R) Xeon(R) CPU @ 2.30GHz (306F0),ASM,AES-NI)\n",
            "\n",
            "Scanning the drive for archives:\n",
            "  0M Scan\b\b\b\b\b\b\b\b\b         \b\b\b\b\b\b\b\b\b1 file, 30742711 bytes (30 MiB)\n",
            "\n",
            "Extracting archive: DummyGeometryforPHDwork.7z\n",
            "--\n",
            "Path = DummyGeometryforPHDwork.7z\n",
            "Type = 7z\n",
            "Physical Size = 30742711\n",
            "Headers Size = 1602\n",
            "Method = LZMA2:24\n",
            "Solid = +\n",
            "Blocks = 2\n",
            "\n",
            "  0%\b\b\b\b    \b\b\b\b  9% 26 - DummyGeometry/mach0.200_aoa10. . 00_aoa10.00_beta0.00-POINT.dat\b\b\b\b\b\b\b\b\b\b\b\b\b\b\b\b\b\b\b\b\b\b\b\b\b\b\b\b\b\b\b\b\b\b\b\b\b\b\b\b\b\b\b\b\b\b\b\b\b\b\b\b\b\b\b\b\b\b\b\b\b\b\b\b\b\b\b\b\b\b\b\b\b                                                                         \b\b\b\b\b\b\b\b\b\b\b\b\b\b\b\b\b\b\b\b\b\b\b\b\b\b\b\b\b\b\b\b\b\b\b\b\b\b\b\b\b\b\b\b\b\b\b\b\b\b\b\b\b\b\b\b\b\b\b\b\b\b\b\b\b\b\b\b\b\b\b\b\b 17% 34 - DummyGeometry/mach0.200_aoa6.00 . ach0.200_aoa6.00_beta0-POINT.dat\b\b\b\b\b\b\b\b\b\b\b\b\b\b\b\b\b\b\b\b\b\b\b\b\b\b\b\b\b\b\b\b\b\b\b\b\b\b\b\b\b\b\b\b\b\b\b\b\b\b\b\b\b\b\b\b\b\b\b\b\b\b\b\b\b\b\b\b\b\b\b\b\b\b\b\b                                                                            \b\b\b\b\b\b\b\b\b\b\b\b\b\b\b\b\b\b\b\b\b\b\b\b\b\b\b\b\b\b\b\b\b\b\b\b\b\b\b\b\b\b\b\b\b\b\b\b\b\b\b\b\b\b\b\b\b\b\b\b\b\b\b\b\b\b\b\b\b\b\b\b\b\b\b\b 30% 42 - DummyGeometry/mach0.600_aoa0.00_b . h0.600_aoa0.00_beta0.00-POINT.dat\b\b\b\b\b\b\b\b\b\b\b\b\b\b\b\b\b\b\b\b\b\b\b\b\b\b\b\b\b\b\b\b\b\b\b\b\b\b\b\b\b\b\b\b\b\b\b\b\b\b\b\b\b\b\b\b\b\b\b\b\b\b\b\b\b\b\b\b\b\b\b\b\b\b\b\b\b\b\b                                                                               \b\b\b\b\b\b\b\b\b\b\b\b\b\b\b\b\b\b\b\b\b\b\b\b\b\b\b\b\b\b\b\b\b\b\b\b\b\b\b\b\b\b\b\b\b\b\b\b\b\b\b\b\b\b\b\b\b\b\b\b\b\b\b\b\b\b\b\b\b\b\b\b\b\b\b\b\b\b\b 41% 51 - DummyGeometry/mach0.600_aoa4.00 . _mach0.600_aoa4.00_beta0.00.plt\b\b\b\b\b\b\b\b\b\b\b\b\b\b\b\b\b\b\b\b\b\b\b\b\b\b\b\b\b\b\b\b\b\b\b\b\b\b\b\b\b\b\b\b\b\b\b\b\b\b\b\b\b\b\b\b\b\b\b\b\b\b\b\b\b\b\b\b\b\b\b\b\b\b\b                                                                           \b\b\b\b\b\b\b\b\b\b\b\b\b\b\b\b\b\b\b\b\b\b\b\b\b\b\b\b\b\b\b\b\b\b\b\b\b\b\b\b\b\b\b\b\b\b\b\b\b\b\b\b\b\b\b\b\b\b\b\b\b\b\b\b\b\b\b\b\b\b\b\b\b\b\b 50% 58 - DummyGeometry/mach0.600_aoa8.00_b . h0.600_aoa8.00_beta0.00-POINT.dat\b\b\b\b\b\b\b\b\b\b\b\b\b\b\b\b\b\b\b\b\b\b\b\b\b\b\b\b\b\b\b\b\b\b\b\b\b\b\b\b\b\b\b\b\b\b\b\b\b\b\b\b\b\b\b\b\b\b\b\b\b\b\b\b\b\b\b\b\b\b\b\b\b\b\b\b\b\b\b                                                                               \b\b\b\b\b\b\b\b\b\b\b\b\b\b\b\b\b\b\b\b\b\b\b\b\b\b\b\b\b\b\b\b\b\b\b\b\b\b\b\b\b\b\b\b\b\b\b\b\b\b\b\b\b\b\b\b\b\b\b\b\b\b\b\b\b\b\b\b\b\b\b\b\b\b\b\b\b\b\b 61% 67 - DummyGeometry/mach0.800_aoa10.0 . _mach0.800_aoa10.00_beta0.00.plt\b\b\b\b\b\b\b\b\b\b\b\b\b\b\b\b\b\b\b\b\b\b\b\b\b\b\b\b\b\b\b\b\b\b\b\b\b\b\b\b\b\b\b\b\b\b\b\b\b\b\b\b\b\b\b\b\b\b\b\b\b\b\b\b\b\b\b\b\b\b\b\b\b\b\b\b                                                                            \b\b\b\b\b\b\b\b\b\b\b\b\b\b\b\b\b\b\b\b\b\b\b\b\b\b\b\b\b\b\b\b\b\b\b\b\b\b\b\b\b\b\b\b\b\b\b\b\b\b\b\b\b\b\b\b\b\b\b\b\b\b\b\b\b\b\b\b\b\b\b\b\b\b\b\b 71% 77 - DummyGeometry/mach0.800_aoa8.00_b . h0.800_aoa8.00_beta0.00-BLOCK.dat\b\b\b\b\b\b\b\b\b\b\b\b\b\b\b\b\b\b\b\b\b\b\b\b\b\b\b\b\b\b\b\b\b\b\b\b\b\b\b\b\b\b\b\b\b\b\b\b\b\b\b\b\b\b\b\b\b\b\b\b\b\b\b\b\b\b\b\b\b\b\b\b\b\b\b\b\b\b\b                                                                               \b\b\b\b\b\b\b\b\b\b\b\b\b\b\b\b\b\b\b\b\b\b\b\b\b\b\b\b\b\b\b\b\b\b\b\b\b\b\b\b\b\b\b\b\b\b\b\b\b\b\b\b\b\b\b\b\b\b\b\b\b\b\b\b\b\b\b\b\b\b\b\b\b\b\b\b\b\b\b 82% 83 - DummyGeometry/mach1.000_aoa0.00 . _mach1.000_aoa0.00_beta0.00.plt\b\b\b\b\b\b\b\b\b\b\b\b\b\b\b\b\b\b\b\b\b\b\b\b\b\b\b\b\b\b\b\b\b\b\b\b\b\b\b\b\b\b\b\b\b\b\b\b\b\b\b\b\b\b\b\b\b\b\b\b\b\b\b\b\b\b\b\b\b\b\b\b\b\b\b                                                                           \b\b\b\b\b\b\b\b\b\b\b\b\b\b\b\b\b\b\b\b\b\b\b\b\b\b\b\b\b\b\b\b\b\b\b\b\b\b\b\b\b\b\b\b\b\b\b\b\b\b\b\b\b\b\b\b\b\b\b\b\b\b\b\b\b\b\b\b\b\b\b\b\b\b\b 89% 91 - DummyGeometry/mach1.000_aoa4.00 . _mach1.000_aoa4.00_beta0.00.plt\b\b\b\b\b\b\b\b\b\b\b\b\b\b\b\b\b\b\b\b\b\b\b\b\b\b\b\b\b\b\b\b\b\b\b\b\b\b\b\b\b\b\b\b\b\b\b\b\b\b\b\b\b\b\b\b\b\b\b\b\b\b\b\b\b\b\b\b\b\b\b\b\b\b\b                                                                           \b\b\b\b\b\b\b\b\b\b\b\b\b\b\b\b\b\b\b\b\b\b\b\b\b\b\b\b\b\b\b\b\b\b\b\b\b\b\b\b\b\b\b\b\b\b\b\b\b\b\b\b\b\b\b\b\b\b\b\b\b\b\b\b\b\b\b\b\b\b\b\b\b\b\b 99% 100 - DummyGeometry/macro.mcr\b\b\b\b\b\b\b\b\b\b\b\b\b\b\b\b\b\b\b\b\b\b\b\b\b\b\b\b\b\b\b\b\b\b                                  \b\b\b\b\b\b\b\b\b\b\b\b\b\b\b\b\b\b\b\b\b\b\b\b\b\b\b\b\b\b\b\b\b\bEverything is Ok\n",
            "\n",
            "Folders: 21\n",
            "Files: 82\n",
            "Size:       147571907\n",
            "Compressed: 30742711\n"
          ]
        }
      ]
    },
    {
      "cell_type": "markdown",
      "source": [
        "DummyGeometry dizininin içindeki bütün .plt dosyaları taranarak adresleri bir list veri yapısına alınmıştır. "
      ],
      "metadata": {
        "id": "CqnV7EPKN-Ym"
      }
    },
    {
      "cell_type": "code",
      "source": [
        "import os\n",
        "file_paths = [] \n",
        "for root, dirs, files in os.walk(\"./DummyGeometry\"):\n",
        "    for file in files:\n",
        "        if file.endswith(\".plt\"):\n",
        "             file_paths.append(os.path.join(root, file))\n",
        "print(file_paths)"
      ],
      "metadata": {
        "id": "h_f10FkTHl9P"
      },
      "execution_count": null,
      "outputs": []
    },
    {
      "cell_type": "markdown",
      "source": [
        "Her bir .plt dosyasının dosya isminde hangi AoA, Mach ve beta değerinde analiz yapıldığının bilgisi bulunmaktadır. Bu sebeple dosya ismi okunarak bir Regex yardımıyla bu bilgilere ulaşılarak yeni feature olarak datasete eklenmektedir. Ayrıca her bir analizde her bir zone a ait veriler zone_id isimli bir feature kullanılarak işaretlenmiştir. Böylece ileride verisetini zone bazlı olarak filtrelemek veya zone bilgisini regresyon hesabında kullanmak mümkün olabilecektir. "
      ],
      "metadata": {
        "id": "T42hy3gGnT0q"
      }
    },
    {
      "cell_type": "code",
      "source": [
        "\n",
        "import re\n",
        "import numpy as np\n",
        "import pltreader as plt\n",
        "\n",
        "dataset = []\n",
        "for item in file_paths:\n",
        "  file_content={}\n",
        "  pat = re.compile(\"mach(.*)_aoa(.*)_beta(.*)/\")\n",
        "  obj = pat.search(item)\n",
        "  mach = float(obj.group(1))\n",
        "  aoa = float(obj.group(2))\n",
        "  beta = float(obj.group(3))\n",
        "  with open( item, 'rb') as f:\n",
        "    bytelist = f.read()\n",
        "  header = plt.read_header(bytelist)\n",
        "  data = plt.read_data(bytelist,header)\n",
        "  for zone_id in range (len(data['Zones'])):\n",
        "    zone_shape = data['Zones'][zone_id]['Pressure'].shape\n",
        "    data['Zones'][zone_id]['mach']=mach*np.ones(zone_shape, dtype = 'float32')\n",
        "    data['Zones'][zone_id]['aoa']=aoa*np.ones(zone_shape, dtype = 'float32')\n",
        "    data['Zones'][zone_id]['beta']=beta*np.ones(zone_shape, dtype = 'float32')\n",
        "    data['Zones'][zone_id]['zone']=zone_id*np.ones(zone_shape, dtype = 'float32')\n",
        "\n",
        "  file_content['data'] = data\n",
        "  dataset.append(file_content)"
      ],
      "metadata": {
        "id": "QX6xgaBlT4WX"
      },
      "execution_count": null,
      "outputs": []
    },
    {
      "cell_type": "code",
      "source": [
        "cols=['mach','aoa','beta','zone']+header['VarNames']\n",
        "s={}\n",
        "for col in cols:\n",
        "  t=[]\n",
        "  for fid in range(len(file_paths)):\n",
        "    for zid in range(len(data['Zones'])):\n",
        "      t.append(dataset[fid]['data']['Zones'][zid][col])\n",
        "  s[col] = np.hstack(t)"
      ],
      "metadata": {
        "id": "0sap4Tjc74u6"
      },
      "execution_count": null,
      "outputs": []
    },
    {
      "cell_type": "markdown",
      "source": [
        "Dict veri yapısında tutulan veriseti önce pandas dataframe, sonrasında JSON olarak kaydedilmiştir."
      ],
      "metadata": {
        "id": "MK1RAbVksPrs"
      }
    },
    {
      "cell_type": "code",
      "source": [
        "import pandas as pd\n",
        "pandasDF=pd.DataFrame.from_dict(s)\n",
        "pandasDF.to_json('dummygeometry.json', orient='records', force_ascii=False, lines=True)"
      ],
      "metadata": {
        "id": "mN6MikTH5y0y"
      },
      "execution_count": null,
      "outputs": []
    }
  ]
}